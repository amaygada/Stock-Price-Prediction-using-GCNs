{
 "cells": [
  {
   "cell_type": "code",
   "execution_count": 11,
   "metadata": {
    "execution": {
     "iopub.execute_input": "2023-12-03T05:27:25.006681Z",
     "iopub.status.busy": "2023-12-03T05:27:25.006237Z",
     "iopub.status.idle": "2023-12-03T05:27:58.966457Z",
     "shell.execute_reply": "2023-12-03T05:27:58.965456Z",
     "shell.execute_reply.started": "2023-12-03T05:27:25.006632Z"
    }
   },
   "outputs": [
    {
     "name": "stdout",
     "output_type": "stream",
     "text": [
      "Requirement already satisfied: numpy in /opt/conda/lib/python3.10/site-packages (1.24.3)\n"
     ]
    }
   ],
   "source": [
    "# !pip install numpy"
   ]
  },
  {
   "cell_type": "code",
   "execution_count": 12,
   "metadata": {
    "execution": {
     "iopub.execute_input": "2023-12-03T05:27:58.969606Z",
     "iopub.status.busy": "2023-12-03T05:27:58.968824Z",
     "iopub.status.idle": "2023-12-03T05:28:36.674360Z",
     "shell.execute_reply": "2023-12-03T05:28:36.673164Z",
     "shell.execute_reply.started": "2023-12-03T05:27:58.969563Z"
    }
   },
   "outputs": [
    {
     "name": "stdout",
     "output_type": "stream",
     "text": [
      "Looking in links: https://data.pyg.org/whl/torch-2.0.0+cu114.html\n",
      "\u001b[33mWARNING: Retrying (Retry(total=4, connect=None, read=None, redirect=None, status=None)) after connection broken by 'NewConnectionError('<pip._vendor.urllib3.connection.HTTPSConnection object at 0x7cbddbc24910>: Failed to establish a new connection: [Errno -3] Temporary failure in name resolution')': /whl/torch-2.0.0+cu114.html\u001b[0m\u001b[33m\n",
      "\u001b[0m^C\n"
     ]
    }
   ],
   "source": [
    "# !pip install pyg_lib torch_scatter torch_sparse torch_cluster torch_spline_conv -f https://data.pyg.org/whl/torch-2.0.0+cu114.html"
   ]
  },
  {
   "cell_type": "code",
   "execution_count": 9,
   "metadata": {
    "execution": {
     "iopub.execute_input": "2023-12-03T05:22:23.339478Z",
     "iopub.status.busy": "2023-12-03T05:22:23.338629Z",
     "iopub.status.idle": "2023-12-03T05:24:52.815429Z",
     "shell.execute_reply": "2023-12-03T05:24:52.814264Z",
     "shell.execute_reply.started": "2023-12-03T05:22:23.339442Z"
    }
   },
   "outputs": [
    {
     "name": "stdout",
     "output_type": "stream",
     "text": [
      "\u001b[33mWARNING: Retrying (Retry(total=4, connect=None, read=None, redirect=None, status=None)) after connection broken by 'NewConnectionError('<pip._vendor.urllib3.connection.HTTPSConnection object at 0x7db638304790>: Failed to establish a new connection: [Errno -3] Temporary failure in name resolution')': /simple/torch-geometric/\u001b[0m\u001b[33m\n",
      "\u001b[0m\u001b[33mWARNING: Retrying (Retry(total=3, connect=None, read=None, redirect=None, status=None)) after connection broken by 'NewConnectionError('<pip._vendor.urllib3.connection.HTTPSConnection object at 0x7db638304a90>: Failed to establish a new connection: [Errno -3] Temporary failure in name resolution')': /simple/torch-geometric/\u001b[0m\u001b[33m\n",
      "\u001b[0m\u001b[33mWARNING: Retrying (Retry(total=2, connect=None, read=None, redirect=None, status=None)) after connection broken by 'NewConnectionError('<pip._vendor.urllib3.connection.HTTPSConnection object at 0x7db638304d30>: Failed to establish a new connection: [Errno -3] Temporary failure in name resolution')': /simple/torch-geometric/\u001b[0m\u001b[33m\n",
      "\u001b[0m\u001b[33mWARNING: Retrying (Retry(total=1, connect=None, read=None, redirect=None, status=None)) after connection broken by 'NewConnectionError('<pip._vendor.urllib3.connection.HTTPSConnection object at 0x7db638304ee0>: Failed to establish a new connection: [Errno -3] Temporary failure in name resolution')': /simple/torch-geometric/\u001b[0m\u001b[33m\n",
      "\u001b[0m\u001b[33mWARNING: Retrying (Retry(total=0, connect=None, read=None, redirect=None, status=None)) after connection broken by 'NewConnectionError('<pip._vendor.urllib3.connection.HTTPSConnection object at 0x7db638305090>: Failed to establish a new connection: [Errno -3] Temporary failure in name resolution')': /simple/torch-geometric/\u001b[0m\u001b[33m\n",
      "\u001b[0m\u001b[31mERROR: Could not find a version that satisfies the requirement torch_geometric (from versions: none)\u001b[0m\u001b[31m\n",
      "\u001b[0m\u001b[31mERROR: No matching distribution found for torch_geometric\u001b[0m\u001b[31m\n",
      "\u001b[0m"
     ]
    }
   ],
   "source": [
    "# !pip install torch_geometric"
   ]
  },
  {
   "cell_type": "code",
   "execution_count": 10,
   "metadata": {
    "execution": {
     "iopub.execute_input": "2023-12-03T05:24:52.817982Z",
     "iopub.status.busy": "2023-12-03T05:24:52.817662Z",
     "iopub.status.idle": "2023-12-03T05:26:38.742439Z",
     "shell.execute_reply": "2023-12-03T05:26:38.741420Z",
     "shell.execute_reply.started": "2023-12-03T05:24:52.817955Z"
    }
   },
   "outputs": [
    {
     "name": "stdout",
     "output_type": "stream",
     "text": [
      "\u001b[33mWARNING: Retrying (Retry(total=4, connect=None, read=None, redirect=None, status=None)) after connection broken by 'NewConnectionError('<pip._vendor.urllib3.connection.HTTPSConnection object at 0x7a26ae8ec790>: Failed to establish a new connection: [Errno -3] Temporary failure in name resolution')': /simple/torch-geometric-temporal/\u001b[0m\u001b[33m\n",
      "\u001b[0m\u001b[33mWARNING: Retrying (Retry(total=3, connect=None, read=None, redirect=None, status=None)) after connection broken by 'NewConnectionError('<pip._vendor.urllib3.connection.HTTPSConnection object at 0x7a26ae8eca90>: Failed to establish a new connection: [Errno -3] Temporary failure in name resolution')': /simple/torch-geometric-temporal/\u001b[0m\u001b[33m\n",
      "\u001b[0m\u001b[33mWARNING: Retrying (Retry(total=2, connect=None, read=None, redirect=None, status=None)) after connection broken by 'NewConnectionError('<pip._vendor.urllib3.connection.HTTPSConnection object at 0x7a26ae8ecd30>: Failed to establish a new connection: [Errno -3] Temporary failure in name resolution')': /simple/torch-geometric-temporal/\u001b[0m\u001b[33m\n",
      "\u001b[0m\u001b[33mWARNING: Retrying (Retry(total=1, connect=None, read=None, redirect=None, status=None)) after connection broken by 'NewConnectionError('<pip._vendor.urllib3.connection.HTTPSConnection object at 0x7a26ae8ecee0>: Failed to establish a new connection: [Errno -3] Temporary failure in name resolution')': /simple/torch-geometric-temporal/\u001b[0m\u001b[33m\n",
      "\u001b[0m^C\n",
      "\u001b[31mERROR: Operation cancelled by user\u001b[0m\u001b[31m\n",
      "\u001b[0m"
     ]
    }
   ],
   "source": [
    "# !pip install torch-geometric-temporal"
   ]
  },
  {
   "cell_type": "code",
   "execution_count": 255,
   "metadata": {
    "_cell_guid": "b1076dfc-b9ad-4769-8c92-a6c4dae69d19",
    "_uuid": "8f2839f25d086af736a60e9eeb907d3b93b6e0e5",
    "execution": {
     "iopub.execute_input": "2023-12-03T05:22:13.797415Z",
     "iopub.status.busy": "2023-12-03T05:22:13.796996Z",
     "iopub.status.idle": "2023-12-03T05:22:15.859666Z",
     "shell.execute_reply": "2023-12-03T05:22:15.858337Z",
     "shell.execute_reply.started": "2023-12-03T05:22:13.797376Z"
    }
   },
   "outputs": [],
   "source": [
    "import pandas as pd\n",
    "from tqdm import tqdm\n",
    "import os\n",
    "import numpy as np\n",
    "import torch\n",
    "import torch.nn.functional as F\n",
    "from torch_geometric_temporal.nn.recurrent import DCRNN, GConvGRU, GConvLSTM\n",
    "import random\n",
    "import matplotlib.pyplot as plt"
   ]
  },
  {
   "cell_type": "code",
   "execution_count": 256,
   "metadata": {
    "execution": {
     "iopub.execute_input": "2023-12-02T23:48:47.857796Z",
     "iopub.status.busy": "2023-12-02T23:48:47.857192Z",
     "iopub.status.idle": "2023-12-02T23:48:47.935676Z",
     "shell.execute_reply": "2023-12-02T23:48:47.934679Z",
     "shell.execute_reply.started": "2023-12-02T23:48:47.857761Z"
    }
   },
   "outputs": [
    {
     "data": {
      "text/plain": [
       "True"
      ]
     },
     "execution_count": 256,
     "metadata": {},
     "output_type": "execute_result"
    }
   ],
   "source": [
    "torch.cuda.is_available()"
   ]
  },
  {
   "cell_type": "code",
   "execution_count": 257,
   "metadata": {
    "execution": {
     "iopub.execute_input": "2023-12-03T02:27:16.024764Z",
     "iopub.status.busy": "2023-12-03T02:27:16.024288Z",
     "iopub.status.idle": "2023-12-03T02:27:16.029959Z",
     "shell.execute_reply": "2023-12-03T02:27:16.028905Z",
     "shell.execute_reply.started": "2023-12-03T02:27:16.024722Z"
    }
   },
   "outputs": [],
   "source": [
    "num_nodes = 50\n",
    "total_time_in_dataset = 237\n",
    "window_size = 30\n",
    "num_node_features_closing_price_only = 1\n",
    "num_node_features_all = 5\n",
    "num_epochs = 100\n",
    "distance_csv_path = \"./Data/dataset/Distance_Return.csv\""
   ]
  },
  {
   "cell_type": "code",
   "execution_count": 258,
   "metadata": {
    "execution": {
     "iopub.execute_input": "2023-12-03T02:27:30.445321Z",
     "iopub.status.busy": "2023-12-03T02:27:30.444962Z",
     "iopub.status.idle": "2023-12-03T02:27:30.541569Z",
     "shell.execute_reply": "2023-12-03T02:27:30.540499Z",
     "shell.execute_reply.started": "2023-12-03T02:27:30.445289Z"
    }
   },
   "outputs": [],
   "source": [
    "df = pd.read_csv(distance_csv_path)"
   ]
  },
  {
   "cell_type": "code",
   "execution_count": 259,
   "metadata": {
    "execution": {
     "iopub.execute_input": "2023-12-03T02:27:30.901177Z",
     "iopub.status.busy": "2023-12-03T02:27:30.900472Z",
     "iopub.status.idle": "2023-12-03T02:27:30.911778Z",
     "shell.execute_reply": "2023-12-03T02:27:30.910729Z",
     "shell.execute_reply.started": "2023-12-03T02:27:30.901142Z"
    }
   },
   "outputs": [],
   "source": [
    "df = df.drop([\"KVUE\"], axis=1)\n",
    "df = df.drop(277, axis=0)\n",
    "df = df.drop([\"Unnamed: 0\"], axis=1)"
   ]
  },
  {
   "cell_type": "code",
   "execution_count": 260,
   "metadata": {
    "execution": {
     "iopub.execute_input": "2023-12-03T02:27:31.417606Z",
     "iopub.status.busy": "2023-12-03T02:27:31.416678Z",
     "iopub.status.idle": "2023-12-03T02:27:31.422322Z",
     "shell.execute_reply": "2023-12-03T02:27:31.421297Z",
     "shell.execute_reply.started": "2023-12-03T02:27:31.417566Z"
    }
   },
   "outputs": [],
   "source": [
    "df = df.iloc[:num_nodes, :num_nodes]"
   ]
  },
  {
   "cell_type": "code",
   "execution_count": 261,
   "metadata": {
    "execution": {
     "iopub.execute_input": "2023-12-03T02:27:38.344877Z",
     "iopub.status.busy": "2023-12-03T02:27:38.344438Z",
     "iopub.status.idle": "2023-12-03T02:27:38.350744Z",
     "shell.execute_reply": "2023-12-03T02:27:38.349583Z",
     "shell.execute_reply.started": "2023-12-03T02:27:38.344841Z"
    }
   },
   "outputs": [],
   "source": [
    "# c = (df>1e-4)\n",
    "\n",
    "# a = (df>0)\n",
    "# b = (df<=0.7)\n",
    "# c = a & b\n",
    "\n",
    "# d = (df<2)\n",
    "# e = (df>=1.3)\n",
    "# f = e & d\n",
    "\n",
    "# c = c | f\n",
    "\n",
    "c = (df>=0)\n",
    "for i in range(len(c)):\n",
    "    for j in range(len(c)):\n",
    "        if(i==j):\n",
    "            c.iloc[i][j] = False\n",
    "# c"
   ]
  },
  {
   "cell_type": "code",
   "execution_count": 262,
   "metadata": {
    "execution": {
     "iopub.execute_input": "2023-12-03T02:27:38.89266Z",
     "iopub.status.busy": "2023-12-03T02:27:38.891956Z",
     "iopub.status.idle": "2023-12-03T02:27:38.89719Z",
     "shell.execute_reply": "2023-12-03T02:27:38.896225Z",
     "shell.execute_reply.started": "2023-12-03T02:27:38.892628Z"
    }
   },
   "outputs": [],
   "source": [
    "companies = list(df.columns)"
   ]
  },
  {
   "cell_type": "code",
   "execution_count": 263,
   "metadata": {
    "execution": {
     "iopub.execute_input": "2023-12-03T02:27:39.376233Z",
     "iopub.status.busy": "2023-12-03T02:27:39.375369Z",
     "iopub.status.idle": "2023-12-03T02:27:39.513926Z",
     "shell.execute_reply": "2023-12-03T02:27:39.513094Z",
     "shell.execute_reply.started": "2023-12-03T02:27:39.376182Z"
    }
   },
   "outputs": [
    {
     "name": "stderr",
     "output_type": "stream",
     "text": [
      "100%|██████████████████████████████████████████| 50/50 [00:00<00:00, 215.20it/s]\n"
     ]
    }
   ],
   "source": [
    "edge_list_x = []\n",
    "edge_list_y = []\n",
    "weight = []\n",
    "for i in tqdm(range(len(companies))):\n",
    "    for j in range(len(companies)):\n",
    "        if(c.iloc[i][j]):\n",
    "#             print(i, j)\n",
    "            edge_list_x.append(i)\n",
    "            edge_list_y.append(j)\n",
    "            weight.append(df.iloc[i][j])\n",
    "            \n",
    "#define the edge_index\n",
    "edge_list = np.zeros((2,len(edge_list_x)))\n",
    "edge_list[0] = edge_list_x\n",
    "edge_list[1] = edge_list_y\n",
    "edge_index = torch.from_numpy(edge_list).long()\n",
    "\n",
    "#define the edge weights\n",
    "edge_weights = np.array(weight)\n",
    "edge_weights = torch.from_numpy(edge_weights).float()\n",
    "# edge_weights"
   ]
  },
  {
   "cell_type": "code",
   "execution_count": null,
   "metadata": {},
   "outputs": [],
   "source": []
  },
  {
   "cell_type": "code",
   "execution_count": 264,
   "metadata": {
    "execution": {
     "iopub.execute_input": "2023-12-03T02:27:43.481101Z",
     "iopub.status.busy": "2023-12-03T02:27:43.480737Z",
     "iopub.status.idle": "2023-12-03T02:27:43.486553Z",
     "shell.execute_reply": "2023-12-03T02:27:43.485614Z",
     "shell.execute_reply.started": "2023-12-03T02:27:43.481074Z"
    }
   },
   "outputs": [],
   "source": [
    "node_indices = [i for i in range(len(companies))]\n",
    "node_dict = {i:j for i,j in zip(node_indices, companies)}\n",
    "reverse_node_dict = {i:j for i,j in zip(companies, node_indices)}"
   ]
  },
  {
   "cell_type": "code",
   "execution_count": 265,
   "metadata": {},
   "outputs": [
    {
     "data": {
      "text/plain": [
       "2450"
      ]
     },
     "execution_count": 265,
     "metadata": {},
     "output_type": "execute_result"
    }
   ],
   "source": [
    "len(edge_weights)"
   ]
  },
  {
   "cell_type": "markdown",
   "metadata": {},
   "source": [
    "# Closing Price Only"
   ]
  },
  {
   "cell_type": "code",
   "execution_count": 1,
   "metadata": {
    "execution": {
     "iopub.execute_input": "2023-12-03T00:33:46.375787Z",
     "iopub.status.busy": "2023-12-03T00:33:46.375122Z",
     "iopub.status.idle": "2023-12-03T00:33:46.543476Z",
     "shell.execute_reply": "2023-12-03T00:33:46.542539Z",
     "shell.execute_reply.started": "2023-12-03T00:33:46.375749Z"
    }
   },
   "outputs": [],
   "source": [
    "path = \"/kaggle/input/companygraphdata/dataset/One_Year_Daily_Data/\"\n",
    "closing_price_matrix = np.zeros((num_nodes, total_time_in_dataset))\n",
    "min_max_dict = {}\n",
    "maxx_stock = -100000\n",
    "minn_stock = 100000\n",
    "\n",
    "for company in companies:\n",
    "    closing_price = list(pd.read_csv(path + company+\"_daily_data.csv\")[\"close\"])[:total_time_in_dataset]\n",
    "    index = reverse_node_dict[company]\n",
    "    closing_price_matrix[index] = closing_price\n",
    "    maxx_stock = max(maxx_stock, max(closing_price))\n",
    "    minn_stock = min(minn_stock, min(closing_price))\n",
    "\n",
    "\n",
    "closing_price_matrix = torch.from_numpy(closing_price_matrix).float()\n",
    "closing_price_matrix = (closing_price_matrix - minn_stock) / (maxx_stock - minn_stock)\n",
    "closing_price_matrix"
   ]
  },
  {
   "cell_type": "code",
   "execution_count": null,
   "metadata": {
    "execution": {
     "iopub.execute_input": "2023-12-03T00:33:47.037418Z",
     "iopub.status.busy": "2023-12-03T00:33:47.036419Z",
     "iopub.status.idle": "2023-12-03T00:33:47.047434Z",
     "shell.execute_reply": "2023-12-03T00:33:47.046556Z",
     "shell.execute_reply.started": "2023-12-03T00:33:47.037379Z"
    }
   },
   "outputs": [],
   "source": [
    "X = []\n",
    "Y = []\n",
    "for i in range(207):\n",
    "    X.append(closing_price_matrix[:,i:i+window_size])\n",
    "    Y.append(closing_price_matrix[:,i+window_size])"
   ]
  },
  {
   "cell_type": "code",
   "execution_count": 136,
   "metadata": {
    "execution": {
     "iopub.execute_input": "2023-12-03T00:33:47.345722Z",
     "iopub.status.busy": "2023-12-03T00:33:47.345316Z",
     "iopub.status.idle": "2023-12-03T00:33:47.3531Z",
     "shell.execute_reply": "2023-12-03T00:33:47.352205Z",
     "shell.execute_reply.started": "2023-12-03T00:33:47.34569Z"
    }
   },
   "outputs": [],
   "source": [
    "train_x = X[:107]\n",
    "train_y = Y[:107]\n",
    "val_x = X[:107:157]\n",
    "val_y = Y[:107:157]\n",
    "test_x = X[157:]\n",
    "test_y = Y[157:]"
   ]
  },
  {
   "cell_type": "code",
   "execution_count": 137,
   "metadata": {
    "execution": {
     "iopub.execute_input": "2023-12-03T00:33:48.003999Z",
     "iopub.status.busy": "2023-12-03T00:33:48.003624Z",
     "iopub.status.idle": "2023-12-03T00:33:48.00987Z",
     "shell.execute_reply": "2023-12-03T00:33:48.008707Z",
     "shell.execute_reply.started": "2023-12-03T00:33:48.003968Z"
    }
   },
   "outputs": [],
   "source": [
    "random.shuffle(train_x)\n",
    "random.shuffle(train_y)\n",
    "random.shuffle(val_x)\n",
    "random.shuffle(val_y)\n",
    "random.shuffle(test_x)\n",
    "random.shuffle(test_y)"
   ]
  },
  {
   "cell_type": "markdown",
   "metadata": {},
   "source": [
    "# GRU"
   ]
  },
  {
   "cell_type": "code",
   "execution_count": null,
   "metadata": {
    "execution": {
     "iopub.execute_input": "2023-12-03T00:50:10.306189Z",
     "iopub.status.busy": "2023-12-03T00:50:10.305807Z",
     "iopub.status.idle": "2023-12-03T00:50:10.313742Z",
     "shell.execute_reply": "2023-12-03T00:50:10.312795Z",
     "shell.execute_reply.started": "2023-12-03T00:50:10.306157Z"
    }
   },
   "outputs": [],
   "source": [
    "class RecurrentGCN(torch.nn.Module):\n",
    "    def __init__(self, node_features, window_size):\n",
    "        super(RecurrentGCN, self).__init__()\n",
    "        self.recurrent = GConvGRU(node_features, 8, 2)\n",
    "        self.linear = torch.nn.Linear(8, 1)\n",
    "        self.window_size = window_size\n",
    "        self.node_features = node_features\n",
    "\n",
    "    def forward(self, x, edge_index, edge_weight):\n",
    "        h = None\n",
    "        for i in range(self.window_size):\n",
    "            input_x = x[:,i].view(num_nodes,self.node_features)\n",
    "            h = self.recurrent(input_x, edge_index, edge_weight, h)\n",
    "        h = F.relu(h)\n",
    "        h = self.linear(h)\n",
    "        return h"
   ]
  },
  {
   "cell_type": "code",
   "execution_count": null,
   "metadata": {
    "execution": {
     "iopub.execute_input": "2023-12-03T00:50:12.275309Z",
     "iopub.status.busy": "2023-12-03T00:50:12.274645Z",
     "iopub.status.idle": "2023-12-03T00:50:12.288309Z",
     "shell.execute_reply": "2023-12-03T00:50:12.287543Z",
     "shell.execute_reply.started": "2023-12-03T00:50:12.275274Z"
    }
   },
   "outputs": [],
   "source": [
    "model = RecurrentGCN(\n",
    "    node_features=num_node_features_closing_price_only, \n",
    "    window_size=window_size\n",
    ")\n",
    "optimizer = torch.optim.Adam(model.parameters(), lr=0.01)"
   ]
  },
  {
   "cell_type": "code",
   "execution_count": null,
   "metadata": {
    "execution": {
     "iopub.execute_input": "2023-12-03T00:53:51.631305Z",
     "iopub.status.busy": "2023-12-03T00:53:51.630562Z",
     "iopub.status.idle": "2023-12-03T00:53:51.635934Z",
     "shell.execute_reply": "2023-12-03T00:53:51.634825Z",
     "shell.execute_reply.started": "2023-12-03T00:53:51.63126Z"
    }
   },
   "outputs": [],
   "source": [
    "model.train()\n",
    "cost_arr = []\n",
    "\n",
    "for epoch in tqdm(range(num_epochs)):\n",
    "    ii = 0\n",
    "    cost = 0\n",
    "    for x,y in zip(train_x, train_y):\n",
    "        print(ii, end=\" \")\n",
    "        y_hat = model(x, edge_index, edge_weights)\n",
    "        cost += torch.mean((y_hat-y)**2)\n",
    "        ii+=1\n",
    "    cost/=len(train_x)\n",
    "    cost.backward()\n",
    "    optimizer.step()\n",
    "    optimizer.zero_grad()\n",
    "    print(cost)\n",
    "    cost_arr.append(cost)"
   ]
  },
  {
   "cell_type": "markdown",
   "metadata": {},
   "source": [
    "# LSTM"
   ]
  },
  {
   "cell_type": "code",
   "execution_count": null,
   "metadata": {
    "execution": {
     "iopub.execute_input": "2023-12-03T01:22:52.151427Z",
     "iopub.status.busy": "2023-12-03T01:22:52.150927Z",
     "iopub.status.idle": "2023-12-03T01:22:52.160885Z",
     "shell.execute_reply": "2023-12-03T01:22:52.159719Z",
     "shell.execute_reply.started": "2023-12-03T01:22:52.151383Z"
    }
   },
   "outputs": [],
   "source": [
    "class RecurrentGCNLSTM(torch.nn.Module):\n",
    "    def __init__(self, node_features, window_size):\n",
    "        super(RecurrentGCNLSTM, self).__init__()\n",
    "        self.linear_s = torch.nn.Linear(1,4)\n",
    "        self.recurrent = GConvLSTM(4, 4, 2)\n",
    "        self.linear = torch.nn.Linear(4, 1)\n",
    "        self.window_size = window_size\n",
    "        self.node_features = 4\n",
    "\n",
    "    def forward(self, x, edge_index, edge_weight):\n",
    "        h = None\n",
    "        c = None\n",
    "        for i in range(self.window_size):\n",
    "            input_x = x[:,i].view(num_nodes,1)\n",
    "            input_x = self.linear_s(input_x)\n",
    "            h,c = self.recurrent(input_x, edge_index, edge_weight, h, c)\n",
    "        h = F.relu(h)\n",
    "        h = self.linear(h)\n",
    "        return h"
   ]
  },
  {
   "cell_type": "code",
   "execution_count": null,
   "metadata": {
    "execution": {
     "iopub.execute_input": "2023-12-03T01:22:52.459621Z",
     "iopub.status.busy": "2023-12-03T01:22:52.458588Z",
     "iopub.status.idle": "2023-12-03T01:22:52.470713Z",
     "shell.execute_reply": "2023-12-03T01:22:52.469931Z",
     "shell.execute_reply.started": "2023-12-03T01:22:52.459582Z"
    }
   },
   "outputs": [],
   "source": [
    "model = RecurrentGCNLSTM(\n",
    "    node_features=num_node_features_closing_price_only, \n",
    "    window_size=window_size\n",
    ")\n",
    "optimizer = torch.optim.Adam(model.parameters(), lr=0.01)"
   ]
  },
  {
   "cell_type": "code",
   "execution_count": null,
   "metadata": {
    "execution": {
     "iopub.execute_input": "2023-12-03T01:22:52.910488Z",
     "iopub.status.busy": "2023-12-03T01:22:52.910128Z",
     "iopub.status.idle": "2023-12-03T01:22:52.917146Z",
     "shell.execute_reply": "2023-12-03T01:22:52.916146Z",
     "shell.execute_reply.started": "2023-12-03T01:22:52.91046Z"
    }
   },
   "outputs": [],
   "source": [
    "model.train()"
   ]
  },
  {
   "cell_type": "code",
   "execution_count": null,
   "metadata": {
    "execution": {
     "iopub.execute_input": "2023-12-03T01:31:24.797766Z",
     "iopub.status.busy": "2023-12-03T01:31:24.79729Z",
     "iopub.status.idle": "2023-12-03T01:31:24.803589Z",
     "shell.execute_reply": "2023-12-03T01:31:24.802586Z",
     "shell.execute_reply.started": "2023-12-03T01:31:24.797734Z"
    }
   },
   "outputs": [],
   "source": [
    "optimizer = torch.optim.Adam(model.parameters(), lr=0.001)"
   ]
  },
  {
   "cell_type": "code",
   "execution_count": null,
   "metadata": {
    "execution": {
     "iopub.execute_input": "2023-12-03T01:31:25.263941Z",
     "iopub.status.busy": "2023-12-03T01:31:25.263553Z",
     "iopub.status.idle": "2023-12-03T01:33:47.246333Z",
     "shell.execute_reply": "2023-12-03T01:33:47.245241Z",
     "shell.execute_reply.started": "2023-12-03T01:31:25.263909Z"
    }
   },
   "outputs": [],
   "source": [
    "cost_arr = []\n",
    "\n",
    "for epoch in tqdm(range(5)):\n",
    "    ii = 0\n",
    "    cost = 0\n",
    "    for x,y in zip(train_x, train_y):\n",
    "        print(ii, end=\" \")\n",
    "        y_hat = model(x, edge_index, edge_weights)\n",
    "        cost += torch.mean((y_hat-y)**2)\n",
    "        ii+=1\n",
    "    cost/=len(train_x)\n",
    "    cost.backward()\n",
    "    optimizer.step()\n",
    "    optimizer.zero_grad()\n",
    "    print(cost)\n",
    "    cost_arr.append(cost)"
   ]
  },
  {
   "cell_type": "code",
   "execution_count": null,
   "metadata": {},
   "outputs": [],
   "source": []
  },
  {
   "cell_type": "markdown",
   "metadata": {},
   "source": [
    "# All Features"
   ]
  },
  {
   "cell_type": "code",
   "execution_count": 290,
   "metadata": {},
   "outputs": [],
   "source": [
    "path = \"./Data/dataset/One_Year_Daily_Data/\""
   ]
  },
  {
   "cell_type": "code",
   "execution_count": 291,
   "metadata": {
    "execution": {
     "iopub.execute_input": "2023-12-03T02:27:48.298333Z",
     "iopub.status.busy": "2023-12-03T02:27:48.297944Z",
     "iopub.status.idle": "2023-12-03T02:27:48.304536Z",
     "shell.execute_reply": "2023-12-03T02:27:48.303284Z",
     "shell.execute_reply.started": "2023-12-03T02:27:48.29829Z"
    }
   },
   "outputs": [],
   "source": [
    "def min_max_2d(data):\n",
    "    minn = 1000000000\n",
    "    maxx = -1000000000\n",
    "    for i in range(len(data)):\n",
    "        minn = min(minn, min(data[i]))\n",
    "        maxx = max(maxx, max(data[i]))\n",
    "    \n",
    "#     data = (data-minn) / (maxx-minn)\n",
    "    data = torch.from_numpy(data).float()\n",
    "    return data, maxx, minn"
   ]
  },
  {
   "cell_type": "code",
   "execution_count": 292,
   "metadata": {
    "execution": {
     "iopub.execute_input": "2023-12-03T02:27:48.571193Z",
     "iopub.status.busy": "2023-12-03T02:27:48.570417Z",
     "iopub.status.idle": "2023-12-03T02:27:48.74547Z",
     "shell.execute_reply": "2023-12-03T02:27:48.744271Z",
     "shell.execute_reply.started": "2023-12-03T02:27:48.571161Z"
    }
   },
   "outputs": [],
   "source": [
    "matrix = np.zeros((num_nodes, total_time_in_dataset, num_node_features_all))\n",
    "c_price_matrix = np.zeros((num_nodes, total_time_in_dataset))\n",
    "o_price_matrix = np.zeros((num_nodes, total_time_in_dataset))\n",
    "h_price_matrix = np.zeros((num_nodes, total_time_in_dataset))\n",
    "l_price_matrix = np.zeros((num_nodes, total_time_in_dataset))\n",
    "v_price_matrix = np.zeros((num_nodes, total_time_in_dataset))\n",
    "\n",
    "for company in companies:\n",
    "    d = pd.read_csv(path + company+\"_daily_data.csv\")\n",
    "    open_p = d[\"open\"][:total_time_in_dataset]\n",
    "    close_p = d[\"close\"][:total_time_in_dataset]\n",
    "    high_p = d[\"high\"][:total_time_in_dataset]\n",
    "    low_p = d[\"high\"][:total_time_in_dataset]\n",
    "    volume_p = d[\"volume\"][:total_time_in_dataset]\n",
    "    \n",
    "    index = reverse_node_dict[company]\n",
    "    \n",
    "    c_price_matrix[index] = close_p/max(close_p)\n",
    "    o_price_matrix[index] = open_p/max(open_p)\n",
    "    h_price_matrix[index] = high_p/max(high_p)\n",
    "    l_price_matrix[index] = low_p/max(low_p)\n",
    "    v_price_matrix[index] = volume_p/max(volume_p)\n",
    "\n",
    "c_price_matrix, cmx, cmn = min_max_2d(c_price_matrix)\n",
    "o_price_matrix, omx, omn = min_max_2d(o_price_matrix)\n",
    "h_price_matrix, hmx, hmn = min_max_2d(h_price_matrix)\n",
    "l_price_matrix, lmx, lmn = min_max_2d(l_price_matrix)\n",
    "v_price_matrix, vmx, vmn = min_max_2d(v_price_matrix)\n",
    "\n",
    "matrix = torch.stack([c_price_matrix, o_price_matrix, h_price_matrix, l_price_matrix, v_price_matrix], -1)  "
   ]
  },
  {
   "cell_type": "code",
   "execution_count": 293,
   "metadata": {
    "execution": {
     "iopub.execute_input": "2023-12-03T02:27:48.836574Z",
     "iopub.status.busy": "2023-12-03T02:27:48.83581Z",
     "iopub.status.idle": "2023-12-03T02:27:48.847137Z",
     "shell.execute_reply": "2023-12-03T02:27:48.846194Z",
     "shell.execute_reply.started": "2023-12-03T02:27:48.836544Z"
    }
   },
   "outputs": [],
   "source": [
    "X = []\n",
    "Y = []\n",
    "for i in range(207):\n",
    "    X.append(matrix[:,i:i+window_size])\n",
    "    Y.append(matrix[:,i+window_size][:,1])"
   ]
  },
  {
   "cell_type": "code",
   "execution_count": 294,
   "metadata": {
    "execution": {
     "iopub.execute_input": "2023-12-03T02:27:49.18977Z",
     "iopub.status.busy": "2023-12-03T02:27:49.189452Z",
     "iopub.status.idle": "2023-12-03T02:27:49.19902Z",
     "shell.execute_reply": "2023-12-03T02:27:49.198143Z",
     "shell.execute_reply.started": "2023-12-03T02:27:49.189745Z"
    }
   },
   "outputs": [],
   "source": [
    "train_x = X[:167]\n",
    "train_y = Y[:167]\n",
    "val_x = X[:167:177]\n",
    "val_y = Y[:177:177]\n",
    "test_x = X[177:]\n",
    "test_y = Y[177:]"
   ]
  },
  {
   "cell_type": "code",
   "execution_count": 295,
   "metadata": {
    "execution": {
     "iopub.execute_input": "2023-12-03T02:27:49.753846Z",
     "iopub.status.busy": "2023-12-03T02:27:49.753433Z",
     "iopub.status.idle": "2023-12-03T02:27:49.759312Z",
     "shell.execute_reply": "2023-12-03T02:27:49.758405Z",
     "shell.execute_reply.started": "2023-12-03T02:27:49.753813Z"
    }
   },
   "outputs": [],
   "source": [
    "# random.shuffle(train_x)\n",
    "# random.shuffle(train_y)\n",
    "# random.shuffle(val_x)\n",
    "# random.shuffle(val_y)\n",
    "# random.shuffle(test_x)\n",
    "# random.shuffle(test_y)"
   ]
  },
  {
   "cell_type": "code",
   "execution_count": 296,
   "metadata": {
    "execution": {
     "iopub.execute_input": "2023-12-03T02:52:25.202272Z",
     "iopub.status.busy": "2023-12-03T02:52:25.201907Z",
     "iopub.status.idle": "2023-12-03T02:52:25.241029Z",
     "shell.execute_reply": "2023-12-03T02:52:25.240047Z",
     "shell.execute_reply.started": "2023-12-03T02:52:25.20224Z"
    }
   },
   "outputs": [],
   "source": [
    "# torch.cuda.device_count()"
   ]
  },
  {
   "cell_type": "code",
   "execution_count": 297,
   "metadata": {
    "execution": {
     "iopub.execute_input": "2023-12-03T02:54:00.134773Z",
     "iopub.status.busy": "2023-12-03T02:54:00.134108Z",
     "iopub.status.idle": "2023-12-03T02:54:00.147456Z",
     "shell.execute_reply": "2023-12-03T02:54:00.14641Z",
     "shell.execute_reply.started": "2023-12-03T02:54:00.134735Z"
    }
   },
   "outputs": [],
   "source": [
    "edge_index = edge_index.to(\"cuda\")\n",
    "edge_weights = edge_weights.to(\"cuda\")\n",
    "for i in train_x:\n",
    "    i = i.to(\"cuda\")\n",
    "for i in train_y:\n",
    "    i = i.to(\"cuda\")"
   ]
  },
  {
   "cell_type": "markdown",
   "metadata": {},
   "source": [
    "# LSTM"
   ]
  },
  {
   "cell_type": "code",
   "execution_count": 298,
   "metadata": {},
   "outputs": [],
   "source": [
    "huber_loss = torch.nn.HuberLoss(reduction='mean', delta=1.0)"
   ]
  },
  {
   "cell_type": "code",
   "execution_count": 299,
   "metadata": {
    "execution": {
     "iopub.execute_input": "2023-12-03T02:54:13.946582Z",
     "iopub.status.busy": "2023-12-03T02:54:13.945984Z",
     "iopub.status.idle": "2023-12-03T02:54:13.954293Z",
     "shell.execute_reply": "2023-12-03T02:54:13.953366Z",
     "shell.execute_reply.started": "2023-12-03T02:54:13.946546Z"
    }
   },
   "outputs": [],
   "source": [
    "# class RecurrentGCNLSTM(torch.nn.Module):\n",
    "#     def __init__(self, node_features, window_size):\n",
    "#         super(RecurrentGCNLSTM, self).__init__()\n",
    "#         self.linear_s = torch.nn.Linear(5,8)\n",
    "#         self.recurrent = GConvLSTM(8, 16, 2)\n",
    "#         self.recurrent2 = GConvLSTM(16, 16, 2)\n",
    "#         self.linear = torch.nn.Linear(16, 4)\n",
    "#         self.linear_e = torch.nn.Linear(4,1)\n",
    "#         self.window_size = window_size\n",
    "#         self.node_features = 5\n",
    "#         self.a = torch.nn.Tanh()\n",
    "\n",
    "#     def forward(self, x, edge_index, edge_weight):\n",
    "#         h = None\n",
    "#         c = None\n",
    "#         h1 = None\n",
    "#         c1 = None\n",
    "#         for i in range(self.window_size):\n",
    "#             input_x = x[:,i].view(num_nodes,5)\n",
    "#             input_x = self.linear_s(input_x)\n",
    "#             h1 ,c1 = self.recurrent(input_x, edge_index, edge_weight, h1, c1)\n",
    "#             h1 = self.a(h1)\n",
    "#             h, c = self.recurrent2(h1, edge_index, edge_weight, h, c)\n",
    "#         h = F.relu(h)\n",
    "#         h = self.linear(h)\n",
    "#         h = self.linear_e(h)\n",
    "#         return h\n",
    "\n",
    "class RecurrentGCNLSTM(torch.nn.Module):\n",
    "    def __init__(self, node_features, window_size):\n",
    "        super(RecurrentGCNLSTM, self).__init__()\n",
    "#         self.linear_s = torch.nn.Linear(5,16)\n",
    "        self.recurrent = GConvLSTM(5, 16, 2)\n",
    "#         self.recurrent2 = GConvLSTM(, 32, 2)\n",
    "        self.linear = torch.nn.Linear(16, 8)\n",
    "        self.linear_e = torch.nn.Linear(8,1)\n",
    "        self.window_size = window_size\n",
    "        self.node_features = 5\n",
    "        self.a = torch.nn.Tanh()\n",
    "\n",
    "    def forward(self, x, edge_index, edge_weight):\n",
    "        h = None\n",
    "        c = None\n",
    "        for i in range(self.window_size):\n",
    "            input_x = x[:,i].view(num_nodes,5)\n",
    "            h ,c = self.recurrent(input_x, edge_index, edge_weight, h, c)\n",
    "        h = F.relu(h)\n",
    "        h = self.linear(h)\n",
    "        h = self.linear_e(h)\n",
    "        return h"
   ]
  },
  {
   "cell_type": "code",
   "execution_count": 300,
   "metadata": {},
   "outputs": [],
   "source": [
    "def calculate_val_loss(modell):\n",
    "    modell.eval()\n",
    "    loss = 0\n",
    "    for x,y in zip(val_x, val_y):\n",
    "        x = x.to(\"cuda\")\n",
    "        y = y.to(\"cuda\")\n",
    "        empt = torch.tensor([[], []]).long().to(\"cuda\")\n",
    "        y_hat = modell(x, empt, None)\n",
    "        loss += torch.mean((y_hat-y)**2)\n",
    "#         loss += huber_loss(y_hat.view(1,1), y.view(1,1))\n",
    "    return loss/len(val_x)"
   ]
  },
  {
   "cell_type": "code",
   "execution_count": 301,
   "metadata": {
    "execution": {
     "iopub.execute_input": "2023-12-03T02:54:14.142647Z",
     "iopub.status.busy": "2023-12-03T02:54:14.142265Z",
     "iopub.status.idle": "2023-12-03T02:54:14.154681Z",
     "shell.execute_reply": "2023-12-03T02:54:14.153728Z",
     "shell.execute_reply.started": "2023-12-03T02:54:14.142616Z"
    }
   },
   "outputs": [],
   "source": [
    "model = RecurrentGCNLSTM(\n",
    "    node_features=num_node_features_closing_price_only, \n",
    "    window_size=window_size\n",
    ")\n",
    "model.to(\"cuda\")\n",
    "optimizer = torch.optim.Adam(model.parameters(), lr=0.01)\n",
    "scheduler = torch.optim.lr_scheduler.ReduceLROnPlateau(optimizer, mode='min', patience=7, factor=0.05)"
   ]
  },
  {
   "cell_type": "code",
   "execution_count": 302,
   "metadata": {
    "execution": {
     "iopub.execute_input": "2023-12-03T02:54:14.367996Z",
     "iopub.status.busy": "2023-12-03T02:54:14.367706Z",
     "iopub.status.idle": "2023-12-03T02:54:14.374374Z",
     "shell.execute_reply": "2023-12-03T02:54:14.373403Z",
     "shell.execute_reply.started": "2023-12-03T02:54:14.367971Z"
    }
   },
   "outputs": [
    {
     "data": {
      "text/plain": [
       "RecurrentGCNLSTM(\n",
       "  (recurrent): GConvLSTM(\n",
       "    (conv_x_i): ChebConv(5, 16, K=2, normalization=sym)\n",
       "    (conv_h_i): ChebConv(16, 16, K=2, normalization=sym)\n",
       "    (conv_x_f): ChebConv(5, 16, K=2, normalization=sym)\n",
       "    (conv_h_f): ChebConv(16, 16, K=2, normalization=sym)\n",
       "    (conv_x_c): ChebConv(5, 16, K=2, normalization=sym)\n",
       "    (conv_h_c): ChebConv(16, 16, K=2, normalization=sym)\n",
       "    (conv_x_o): ChebConv(5, 16, K=2, normalization=sym)\n",
       "    (conv_h_o): ChebConv(16, 16, K=2, normalization=sym)\n",
       "  )\n",
       "  (linear): Linear(in_features=16, out_features=8, bias=True)\n",
       "  (linear_e): Linear(in_features=8, out_features=1, bias=True)\n",
       "  (a): Tanh()\n",
       ")"
      ]
     },
     "execution_count": 302,
     "metadata": {},
     "output_type": "execute_result"
    }
   ],
   "source": [
    "train_loss = []\n",
    "val_loss = []\n",
    "model.train()"
   ]
  },
  {
   "cell_type": "code",
   "execution_count": 307,
   "metadata": {
    "execution": {
     "iopub.execute_input": "2023-12-03T02:54:14.609016Z",
     "iopub.status.busy": "2023-12-03T02:54:14.608721Z",
     "iopub.status.idle": "2023-12-03T02:54:14.613663Z",
     "shell.execute_reply": "2023-12-03T02:54:14.612771Z",
     "shell.execute_reply.started": "2023-12-03T02:54:14.608992Z"
    }
   },
   "outputs": [],
   "source": [
    "optimizer = torch.optim.Adam(model.parameters(), lr=0.001)"
   ]
  },
  {
   "cell_type": "code",
   "execution_count": 308,
   "metadata": {
    "execution": {
     "iopub.execute_input": "2023-12-03T02:54:15.090771Z",
     "iopub.status.busy": "2023-12-03T02:54:15.090077Z",
     "iopub.status.idle": "2023-12-03T02:58:20.104947Z",
     "shell.execute_reply": "2023-12-03T02:58:20.103297Z",
     "shell.execute_reply.started": "2023-12-03T02:54:15.090737Z"
    }
   },
   "outputs": [
    {
     "name": "stderr",
     "output_type": "stream",
     "text": [
      "\r",
      "  0%|                                                     | 0/1 [00:00<?, ?it/s]"
     ]
    },
    {
     "name": "stdout",
     "output_type": "stream",
     "text": [
      "0 1 2 3 4 5 6 7 8 9 10 11 12 13 14 15 16 17 18 19 20 21 22 23 24 25 26 27 28 29 30 31 32 33 34 35 36 37 38 39 40 41 42 43 44 45 46 47 48 49 50 51 52 53 54 55 56 57 58 59 60 61 62 63 64 65 66 67 68 69 70 71 72 73 74 75 76 77 78 79 80 81 82 83 84 85 86 87 88 89 90 91 92 93 94 95 96 97 98 99 100 101 102 103 104 105 106 107 108 109 110 111 112 113 114 115 116 117 118 119 120 121 122 123 124 125 126 127 128 129 130 131 132 133 134 135 136 137 138 139 140 141 142 143 144 145 146 147 148 149 150 151 152 153 154 155 156 157 158 159 160 161 162 163 164 165 166 "
     ]
    },
    {
     "name": "stderr",
     "output_type": "stream",
     "text": [
      "100%|█████████████████████████████████████████████| 1/1 [00:50<00:00, 50.47s/it]"
     ]
    },
    {
     "name": "stdout",
     "output_type": "stream",
     "text": [
      "Train Loss:  tensor(0.0155, device='cuda:0', grad_fn=<DivBackward0>)  Val Loss:  tensor(0.0252, device='cuda:0', grad_fn=<DivBackward0>)\n"
     ]
    },
    {
     "name": "stderr",
     "output_type": "stream",
     "text": [
      "\n"
     ]
    }
   ],
   "source": [
    "for epoch in tqdm(range(1)):\n",
    "    ii = 0\n",
    "    cost = 0\n",
    "    for x,y in zip(train_x, train_y):\n",
    "        print(ii, end=\" \")\n",
    "        x = x.to(\"cuda\")\n",
    "        y = y.to(\"cuda\")\n",
    "        empt = torch.tensor([[], []]).long().to(\"cuda\")\n",
    "        y_hat = model(x, empt, None)\n",
    "        cost += torch.mean(((y_hat-y)**2))\n",
    "#         cost += huber_loss(y_hat.view(1,1), y.view(1,1))\n",
    "        ii+=1\n",
    "        #ohyeahthatsfacts\n",
    "    cost/=len(train_x)\n",
    "    cost.backward()\n",
    "    optimizer.step()\n",
    "    optimizer.zero_grad()\n",
    "    train_loss.append(cost)\n",
    "    validation_loss = calculate_val_loss(model)\n",
    "    print(\"Train Loss: \", cost, \" Val Loss: \", validation_loss)\n",
    "    val_loss.append(validation_loss)\n",
    "#     scheduler.step(validation_loss)\n",
    "    if (epoch%10==0):\n",
    "        torch.save(model.state_dict(), \"./model/\"+str(epoch)+\".pt\")"
   ]
  },
  {
   "cell_type": "code",
   "execution_count": 228,
   "metadata": {},
   "outputs": [
    {
     "data": {
      "text/plain": [
       "[tensor(0.5795, device='cuda:0', grad_fn=<DivBackward0>),\n",
       " tensor(0.4981, device='cuda:0', grad_fn=<DivBackward0>),\n",
       " tensor(0.4164, device='cuda:0', grad_fn=<DivBackward0>),\n",
       " tensor(0.3311, device='cuda:0', grad_fn=<DivBackward0>),\n",
       " tensor(0.2449, device='cuda:0', grad_fn=<DivBackward0>),\n",
       " tensor(0.1623, device='cuda:0', grad_fn=<DivBackward0>),\n",
       " tensor(0.0899, device='cuda:0', grad_fn=<DivBackward0>),\n",
       " tensor(0.0362, device='cuda:0', grad_fn=<DivBackward0>),\n",
       " tensor(0.0068, device='cuda:0', grad_fn=<DivBackward0>),\n",
       " tensor(8.0987e-05, device='cuda:0', grad_fn=<DivBackward0>),\n",
       " tensor(1.3052e-05, device='cuda:0', grad_fn=<DivBackward0>),\n",
       " tensor(0.0003, device='cuda:0', grad_fn=<DivBackward0>),\n",
       " tensor(0.0008, device='cuda:0', grad_fn=<DivBackward0>)]"
      ]
     },
     "execution_count": 228,
     "metadata": {},
     "output_type": "execute_result"
    }
   ],
   "source": [
    "val_loss"
   ]
  },
  {
   "cell_type": "code",
   "execution_count": 229,
   "metadata": {},
   "outputs": [
    {
     "data": {
      "text/plain": [
       "[tensor(0.5041, device='cuda:0', grad_fn=<DivBackward0>),\n",
       " tensor(0.4255, device='cuda:0', grad_fn=<DivBackward0>),\n",
       " tensor(0.3561, device='cuda:0', grad_fn=<DivBackward0>),\n",
       " tensor(0.2899, device='cuda:0', grad_fn=<DivBackward0>),\n",
       " tensor(0.2204, device='cuda:0', grad_fn=<DivBackward0>),\n",
       " tensor(0.1511, device='cuda:0', grad_fn=<DivBackward0>),\n",
       " tensor(0.0880, device='cuda:0', grad_fn=<DivBackward0>),\n",
       " tensor(0.0377, device='cuda:0', grad_fn=<DivBackward0>),\n",
       " tensor(0.0077, device='cuda:0', grad_fn=<DivBackward0>),\n",
       " tensor(0.0023, device='cuda:0', grad_fn=<DivBackward0>),\n",
       " tensor(0.0165, device='cuda:0', grad_fn=<DivBackward0>),\n",
       " tensor(0.0136, device='cuda:0', grad_fn=<DivBackward0>),\n",
       " tensor(0.0109, device='cuda:0', grad_fn=<DivBackward0>)]"
      ]
     },
     "execution_count": 229,
     "metadata": {},
     "output_type": "execute_result"
    }
   ],
   "source": [
    "train_loss"
   ]
  },
  {
   "cell_type": "code",
   "execution_count": 230,
   "metadata": {},
   "outputs": [],
   "source": [
    "tr = [train_loss[i].to(\"cpu\").detach().numpy() for i in range(len(train_loss))]\n",
    "vl = [val_loss[i].to(\"cpu\").detach().numpy() for i in range(len(val_loss))]"
   ]
  },
  {
   "cell_type": "code",
   "execution_count": null,
   "metadata": {},
   "outputs": [],
   "source": []
  },
  {
   "cell_type": "markdown",
   "metadata": {},
   "source": [
    "# Eval"
   ]
  },
  {
   "cell_type": "code",
   "execution_count": 309,
   "metadata": {},
   "outputs": [
    {
     "name": "stderr",
     "output_type": "stream",
     "text": [
      "30it [00:08,  3.66it/s]"
     ]
    },
    {
     "name": "stdout",
     "output_type": "stream",
     "text": [
      "MSE: 0.0435\n"
     ]
    },
    {
     "name": "stderr",
     "output_type": "stream",
     "text": [
      "\n"
     ]
    }
   ],
   "source": [
    "model.eval()\n",
    "cost = 0\n",
    "yy = []\n",
    "yyy = []\n",
    "xx = []\n",
    "for x,y in tqdm(zip(test_x, test_y)):\n",
    "    x = x.to(\"cuda\")\n",
    "    y = y.to(\"cuda\")\n",
    "    y_hat = model(x, edge_index, edge_weights)\n",
    "    yy.append(y_hat)\n",
    "    yyy = y\n",
    "    xx = x\n",
    "    cost = cost + torch.mean((y_hat-y)**2)\n",
    "#     cost += huber_loss(y_hat, y)\n",
    "cost = cost/len(test_x)\n",
    "cost = cost.item()\n",
    "print(\"MSE: {:.4f}\".format(cost))"
   ]
  },
  {
   "cell_type": "code",
   "execution_count": 310,
   "metadata": {},
   "outputs": [],
   "source": [
    "comp = 0\n",
    "actual_price = []\n",
    "pred_price = []\n",
    "\n",
    "for i,j in zip(test_y,yy):\n",
    "    actual_price.append(i[comp].to(\"cpu\").detach().numpy())\n",
    "    pred_price.append(j[comp].to(\"cpu\").detach().numpy())\n"
   ]
  },
  {
   "cell_type": "code",
   "execution_count": 312,
   "metadata": {},
   "outputs": [
    {
     "data": {
      "image/png": "[encoded data removed]",
      "text/plain": [
       "<Figure size 800x600 with 1 Axes>"
      ]
     },
     "metadata": {},
     "output_type": "display_data"
    }
   ],
   "source": [
    "# Define the data for each line graph\n",
    "x1 = [i for i in range(30)]\n",
    "y1 = actual_price\n",
    "\n",
    "x2 = [i for i in range(30)]\n",
    "y2 = pred_price\n",
    "\n",
    "# Create the plot\n",
    "plt.figure(figsize=(8, 6))\n",
    "\n",
    "# Plot the first line graph\n",
    "plt.plot(x1, y1, label='actual price', marker='o', color='b')\n",
    "\n",
    "# Plot the second line graph\n",
    "plt.plot(x2, y2, label='pred price', marker='s', color='g')\n",
    "\n",
    "# Add labels and title\n",
    "plt.xlabel('days')\n",
    "plt.ylabel('stock price scaled')\n",
    "plt.title('Prediction plot')\n",
    "\n",
    "# Add legend\n",
    "plt.legend()\n",
    "\n",
    "# Show the plot\n",
    "# plt.grid(True)\n",
    "plt.show()"
   ]
  },
  {
   "cell_type": "code",
   "execution_count": 287,
   "metadata": {},
   "outputs": [
    {
     "name": "stderr",
     "output_type": "stream",
     "text": [
      "107it [00:29,  3.67it/s]"
     ]
    },
    {
     "name": "stdout",
     "output_type": "stream",
     "text": [
      "MSE: 0.0185\n"
     ]
    },
    {
     "name": "stderr",
     "output_type": "stream",
     "text": [
      "\n"
     ]
    }
   ],
   "source": [
    "model.eval()\n",
    "cost = 0\n",
    "yy = []\n",
    "yyy = []\n",
    "xx = []\n",
    "for x,y in tqdm(zip(train_x, train_y)):\n",
    "    x = x.to(\"cuda\")\n",
    "    y = y.to(\"cuda\")\n",
    "    y_hat = model(x, edge_index, edge_weights)\n",
    "    yy.append(y_hat)\n",
    "    yyy = y\n",
    "    xx = x\n",
    "    cost = cost + torch.mean((y_hat-y)**2)\n",
    "cost = cost/len(x)\n",
    "cost = cost.item()\n",
    "print(\"MSE: {:.4f}\".format(cost))"
   ]
  },
  {
   "cell_type": "code",
   "execution_count": 288,
   "metadata": {},
   "outputs": [],
   "source": [
    "comp = 0\n",
    "actual_price = []\n",
    "pred_price = []\n",
    "\n",
    "for i,j in zip(train_y,yy):\n",
    "    actual_price.append(i[comp].to(\"cpu\").detach().numpy())\n",
    "    pred_price.append(j[comp].to(\"cpu\").detach().numpy())"
   ]
  },
  {
   "cell_type": "code",
   "execution_count": 289,
   "metadata": {},
   "outputs": [
    {
     "data": {
      "image/png": "[encoded data removed]",
      "text/plain": [
       "<Figure size 800x600 with 1 Axes>"
      ]
     },
     "metadata": {},
     "output_type": "display_data"
    }
   ],
   "source": [
    "# Define the data for each line graph\n",
    "x1 = [i for i in range(107)]\n",
    "y1 = actual_price\n",
    "\n",
    "x2 = [i for i in range(107)]\n",
    "y2 = pred_price\n",
    "\n",
    "# Create the plot\n",
    "plt.figure(figsize=(8, 6))\n",
    "\n",
    "# Plot the first line graph\n",
    "plt.plot(x1, y1, label='actual price', marker='o', color='b')\n",
    "\n",
    "# Plot the second line graph\n",
    "plt.plot(x2, y2, label='pred price', marker='s', color='g')\n",
    "\n",
    "# Add labels and title\n",
    "plt.xlabel('days')\n",
    "plt.ylabel('stock price scaled')\n",
    "plt.title('Prediction plot')\n",
    "\n",
    "# Add legend\n",
    "plt.legend()\n",
    "\n",
    "# Show the plot\n",
    "# plt.grid(True)\n",
    "plt.show()"
   ]
  }
 ],
 "metadata": {
  "kaggle": {
   "accelerator": "nvidiaTeslaT4",
   "dataSources": [
    {
     "datasetId": 4093856,
     "sourceId": 7101703,
     "sourceType": "datasetVersion"
    }
   ],
   "dockerImageVersionId": 30587,
   "isGpuEnabled": true,
   "isInternetEnabled": false,
   "language": "python",
   "sourceType": "notebook"
  },
  "kernelspec": {
   "display_name": "DL",
   "language": "python",
   "name": "dl"
  },
  "language_info": {
   "codemirror_mode": {
    "name": "ipython",
    "version": 3
   },
   "file_extension": ".py",
   "mimetype": "text/x-python",
   "name": "python",
   "nbconvert_exporter": "python",
   "pygments_lexer": "ipython3",
   "version": "3.10.11"
  }
 },
 "nbformat": 4,
 "nbformat_minor": 4
}
