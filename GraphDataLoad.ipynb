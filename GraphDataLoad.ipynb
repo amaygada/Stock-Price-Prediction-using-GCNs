{
 "cells": [
  {
   "cell_type": "code",
   "execution_count": 115,
   "id": "6a430416",
   "metadata": {},
   "outputs": [],
   "source": [
    "import pandas as pd\n",
    "from tqdm import tqdm\n",
    "import os\n",
    "import numpy as np"
   ]
  },
  {
   "cell_type": "markdown",
   "id": "57a202a5",
   "metadata": {},
   "source": [
    "# Build Graph"
   ]
  },
  {
   "cell_type": "code",
   "execution_count": 70,
   "id": "5a1816f7",
   "metadata": {},
   "outputs": [],
   "source": [
    "df = pd.read_csv(\"Data/dataset/Distance_Return.csv\")"
   ]
  },
  {
   "cell_type": "code",
   "execution_count": 71,
   "id": "bef01161",
   "metadata": {},
   "outputs": [],
   "source": [
    "df = df.drop([\"Unnamed: 0\"], axis=1)"
   ]
  },
  {
   "cell_type": "code",
   "execution_count": 72,
   "id": "72463c04",
   "metadata": {
    "scrolled": true
   },
   "outputs": [],
   "source": [
    "a = (df>1.05)\n",
    "b = (df<1.3)\n",
    "c = a & b"
   ]
  },
  {
   "cell_type": "code",
   "execution_count": 73,
   "id": "983d2b52",
   "metadata": {},
   "outputs": [],
   "source": [
    "companies = list(df.columns)"
   ]
  },
  {
   "cell_type": "code",
   "execution_count": 175,
   "id": "944f511c",
   "metadata": {},
   "outputs": [
    {
     "name": "stderr",
     "output_type": "stream",
     "text": [
      "100%|███████████████████████████████████████████████████████████████████████████████████████████████████████████████████████████████████████████████| 500/500 [00:27<00:00, 18.22it/s]\n"
     ]
    }
   ],
   "source": [
    "edge_list_x = []\n",
    "edge_list_y = []\n",
    "weight = []\n",
    "for i in tqdm(range(len(companies))):\n",
    "    for j in range(len(companies)):\n",
    "        if(c.iloc[i][j]):\n",
    "            x.append(i)\n",
    "            y.append(j)\n",
    "            weight.append(df.iloc[i][j])"
   ]
  },
  {
   "cell_type": "code",
   "execution_count": 128,
   "id": "8836869c",
   "metadata": {},
   "outputs": [],
   "source": [
    "def min_max_scaling(input_list):\n",
    "    min_value = min(input_list)\n",
    "    max_value = max(input_list)\n",
    "\n",
    "    scaled_list = [(x - min_value) / (max_value - min_value) for x in input_list]\n",
    "\n",
    "    return scaled_list, min_value, max_value"
   ]
  },
  {
   "cell_type": "code",
   "execution_count": 129,
   "id": "32bf462a",
   "metadata": {},
   "outputs": [],
   "source": [
    "scaled_edge_weight, _, _ = min_max_scaling(weight)"
   ]
  },
  {
   "cell_type": "code",
   "execution_count": 130,
   "id": "066247fe",
   "metadata": {},
   "outputs": [],
   "source": [
    "node_indices = [i for i in range(len(companies))]\n",
    "node_dict = {i:j for i,j in zip(node_indices, companies)}\n",
    "reverse_node_dict = {i:j for i,j in zip(companies, node_indices)}"
   ]
  },
  {
   "cell_type": "markdown",
   "id": "e9dbbfa2",
   "metadata": {},
   "source": [
    "# Accumulate temporal data - Closing price only"
   ]
  },
  {
   "cell_type": "code",
   "execution_count": 103,
   "id": "33b4482b",
   "metadata": {},
   "outputs": [],
   "source": [
    "path = \"./Data/dataset/One_Year_Daily_Data/\""
   ]
  },
  {
   "cell_type": "code",
   "execution_count": 151,
   "id": "3c2f72aa",
   "metadata": {},
   "outputs": [
    {
     "name": "stdout",
     "output_type": "stream",
     "text": [
      "VLTO 37\n",
      "KVUE 142\n"
     ]
    }
   ],
   "source": [
    "closing_price_matrix = np.zeros((500, 237))\n",
    "min_max_dict = {}\n",
    "\n",
    "for file in os.listdir(path):\n",
    "    closing_price = list(pd.read_csv(path + file)[\"close\"])[:237]\n",
    "    company_name = file.split(\"_\")[0]\n",
    "    try:\n",
    "        index = reverse_node_dict[company_name]\n",
    "        scaled_closing_price, minn, maxx = min_max_scaling(closing_price)\n",
    "        min_max_dict[index] = (minn, maxx)\n",
    "        closing_price_matrix[index] = scaled_closing_price\n",
    "    except:\n",
    "        print(company_name, len(closing_price))\n",
    "        continue"
   ]
  },
  {
   "cell_type": "code",
   "execution_count": 174,
   "id": "b09cf558",
   "metadata": {},
   "outputs": [],
   "source": [
    "X = []\n",
    "Y = []\n",
    "window_size = 30\n",
    "for i in range(207):\n",
    "    X.append(closing_price_matrix[:,i:i+window_size])\n",
    "    Y.append(closing_price_matrix[:,i+window_size])"
   ]
  },
  {
   "cell_type": "markdown",
   "id": "167f1940",
   "metadata": {},
   "source": [
    "# Accumulate temporal data - All features"
   ]
  },
  {
   "cell_type": "code",
   "execution_count": 177,
   "id": "1e220505",
   "metadata": {},
   "outputs": [],
   "source": [
    "path = \"./Data/dataset/One_Year_Daily_Data/\""
   ]
  },
  {
   "cell_type": "code",
   "execution_count": 178,
   "id": "0b050890",
   "metadata": {},
   "outputs": [
    {
     "data": {
      "text/html": [
       "<div>\n",
       "<style scoped>\n",
       "    .dataframe tbody tr th:only-of-type {\n",
       "        vertical-align: middle;\n",
       "    }\n",
       "\n",
       "    .dataframe tbody tr th {\n",
       "        vertical-align: top;\n",
       "    }\n",
       "\n",
       "    .dataframe thead th {\n",
       "        text-align: right;\n",
       "    }\n",
       "</style>\n",
       "<table border=\"1\" class=\"dataframe\">\n",
       "  <thead>\n",
       "    <tr style=\"text-align: right;\">\n",
       "      <th></th>\n",
       "      <th>Year</th>\n",
       "      <th>Month</th>\n",
       "      <th>Day</th>\n",
       "      <th>open</th>\n",
       "      <th>close</th>\n",
       "      <th>high</th>\n",
       "      <th>low</th>\n",
       "      <th>adjclose</th>\n",
       "      <th>volume</th>\n",
       "    </tr>\n",
       "  </thead>\n",
       "  <tbody>\n",
       "    <tr>\n",
       "      <th>0</th>\n",
       "      <td>2022</td>\n",
       "      <td>11</td>\n",
       "      <td>28</td>\n",
       "      <td>14.34</td>\n",
       "      <td>13.83</td>\n",
       "      <td>14.44</td>\n",
       "      <td>13.82</td>\n",
       "      <td>13.83</td>\n",
       "      <td>21313800</td>\n",
       "    </tr>\n",
       "    <tr>\n",
       "      <th>1</th>\n",
       "      <td>2022</td>\n",
       "      <td>11</td>\n",
       "      <td>29</td>\n",
       "      <td>13.89</td>\n",
       "      <td>14.14</td>\n",
       "      <td>14.16</td>\n",
       "      <td>13.83</td>\n",
       "      <td>14.14</td>\n",
       "      <td>17335300</td>\n",
       "    </tr>\n",
       "    <tr>\n",
       "      <th>2</th>\n",
       "      <td>2022</td>\n",
       "      <td>11</td>\n",
       "      <td>30</td>\n",
       "      <td>14.12</td>\n",
       "      <td>14.43</td>\n",
       "      <td>14.45</td>\n",
       "      <td>13.93</td>\n",
       "      <td>14.43</td>\n",
       "      <td>21241800</td>\n",
       "    </tr>\n",
       "    <tr>\n",
       "      <th>3</th>\n",
       "      <td>2022</td>\n",
       "      <td>12</td>\n",
       "      <td>1</td>\n",
       "      <td>14.46</td>\n",
       "      <td>13.98</td>\n",
       "      <td>14.57</td>\n",
       "      <td>13.93</td>\n",
       "      <td>13.98</td>\n",
       "      <td>26519600</td>\n",
       "    </tr>\n",
       "    <tr>\n",
       "      <th>4</th>\n",
       "      <td>2022</td>\n",
       "      <td>12</td>\n",
       "      <td>2</td>\n",
       "      <td>13.82</td>\n",
       "      <td>13.97</td>\n",
       "      <td>13.98</td>\n",
       "      <td>13.67</td>\n",
       "      <td>13.97</td>\n",
       "      <td>24124300</td>\n",
       "    </tr>\n",
       "    <tr>\n",
       "      <th>...</th>\n",
       "      <td>...</td>\n",
       "      <td>...</td>\n",
       "      <td>...</td>\n",
       "      <td>...</td>\n",
       "      <td>...</td>\n",
       "      <td>...</td>\n",
       "      <td>...</td>\n",
       "      <td>...</td>\n",
       "      <td>...</td>\n",
       "    </tr>\n",
       "    <tr>\n",
       "      <th>245</th>\n",
       "      <td>2023</td>\n",
       "      <td>11</td>\n",
       "      <td>17</td>\n",
       "      <td>12.27</td>\n",
       "      <td>12.29</td>\n",
       "      <td>12.31</td>\n",
       "      <td>12.14</td>\n",
       "      <td>12.29</td>\n",
       "      <td>25699200</td>\n",
       "    </tr>\n",
       "    <tr>\n",
       "      <th>246</th>\n",
       "      <td>2023</td>\n",
       "      <td>11</td>\n",
       "      <td>20</td>\n",
       "      <td>12.23</td>\n",
       "      <td>12.40</td>\n",
       "      <td>12.45</td>\n",
       "      <td>12.17</td>\n",
       "      <td>12.40</td>\n",
       "      <td>23878800</td>\n",
       "    </tr>\n",
       "    <tr>\n",
       "      <th>247</th>\n",
       "      <td>2023</td>\n",
       "      <td>11</td>\n",
       "      <td>21</td>\n",
       "      <td>12.30</td>\n",
       "      <td>12.13</td>\n",
       "      <td>12.33</td>\n",
       "      <td>12.05</td>\n",
       "      <td>12.13</td>\n",
       "      <td>24497700</td>\n",
       "    </tr>\n",
       "    <tr>\n",
       "      <th>248</th>\n",
       "      <td>2023</td>\n",
       "      <td>11</td>\n",
       "      <td>22</td>\n",
       "      <td>12.37</td>\n",
       "      <td>12.31</td>\n",
       "      <td>12.77</td>\n",
       "      <td>12.17</td>\n",
       "      <td>12.31</td>\n",
       "      <td>40937600</td>\n",
       "    </tr>\n",
       "    <tr>\n",
       "      <th>249</th>\n",
       "      <td>2023</td>\n",
       "      <td>11</td>\n",
       "      <td>24</td>\n",
       "      <td>12.39</td>\n",
       "      <td>12.31</td>\n",
       "      <td>12.48</td>\n",
       "      <td>12.25</td>\n",
       "      <td>12.31</td>\n",
       "      <td>14803800</td>\n",
       "    </tr>\n",
       "  </tbody>\n",
       "</table>\n",
       "<p>250 rows × 9 columns</p>\n",
       "</div>"
      ],
      "text/plain": [
       "     Year  Month  Day   open  close   high    low  adjclose    volume\n",
       "0    2022     11   28  14.34  13.83  14.44  13.82     13.83  21313800\n",
       "1    2022     11   29  13.89  14.14  14.16  13.83     14.14  17335300\n",
       "2    2022     11   30  14.12  14.43  14.45  13.93     14.43  21241800\n",
       "3    2022     12    1  14.46  13.98  14.57  13.93     13.98  26519600\n",
       "4    2022     12    2  13.82  13.97  13.98  13.67     13.97  24124300\n",
       "..    ...    ...  ...    ...    ...    ...    ...       ...       ...\n",
       "245  2023     11   17  12.27  12.29  12.31  12.14     12.29  25699200\n",
       "246  2023     11   20  12.23  12.40  12.45  12.17     12.40  23878800\n",
       "247  2023     11   21  12.30  12.13  12.33  12.05     12.13  24497700\n",
       "248  2023     11   22  12.37  12.31  12.77  12.17     12.31  40937600\n",
       "249  2023     11   24  12.39  12.31  12.48  12.25     12.31  14803800\n",
       "\n",
       "[250 rows x 9 columns]"
      ]
     },
     "execution_count": 178,
     "metadata": {},
     "output_type": "execute_result"
    }
   ],
   "source": [
    "pd.read_csv(\"./Data/dataset/One_Year_Daily_Data/AAL_daily_data.csv\")"
   ]
  },
  {
   "cell_type": "code",
   "execution_count": null,
   "id": "10deceb2",
   "metadata": {},
   "outputs": [],
   "source": [
    "closing_price_matrix = np.zeros((500, 237, 4))\n",
    "min_max_dict = {}\n",
    "\n",
    "for file in os.listdir(path):\n",
    "    closing_price = list(pd.read_csv(path + file)[\"close\"])[:237]\n",
    "    company_name = file.split(\"_\")[0]\n",
    "    try:\n",
    "        index = reverse_node_dict[company_name]\n",
    "        scaled_closing_price, minn, maxx = min_max_scaling(closing_price)\n",
    "        min_max_dict[index] = (minn, maxx)\n",
    "        closing_price_matrix[index] = scaled_closing_price\n",
    "    except:\n",
    "        print(company_name, len(closing_price))\n",
    "        continue"
   ]
  }
 ],
 "metadata": {
  "kernelspec": {
   "display_name": "DL",
   "language": "python",
   "name": "dl"
  },
  "language_info": {
   "codemirror_mode": {
    "name": "ipython",
    "version": 3
   },
   "file_extension": ".py",
   "mimetype": "text/x-python",
   "name": "python",
   "nbconvert_exporter": "python",
   "pygments_lexer": "ipython3",
   "version": "3.10.11"
  }
 },
 "nbformat": 4,
 "nbformat_minor": 5
}
