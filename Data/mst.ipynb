{
 "cells": [
  {
   "cell_type": "code",
   "execution_count": null,
   "metadata": {},
   "outputs": [],
   "source": [
    "import pandas as pd\n",
    "import networkx as nx\n",
    "import matplotlib.pyplot as plt\n",
    "\n",
    "# Read the distance dataframe from the CSV file\n",
    "distance_df = pd.read_csv('Distance_Return.csv', index_col=0)\n",
    "\n",
    "# Create a graph object\n",
    "G = nx.Graph()\n",
    "\n",
    "# Add nodes to the graph\n",
    "for node in distance_df.index:\n",
    "    G.add_node(node)\n",
    "\n",
    "# Add edges to the graph\n",
    "for i in range(len(distance_df)):\n",
    "    for j in range(i+1, len(distance_df)):\n",
    "        node1 = distance_df.index[i]\n",
    "        node2 = distance_df.columns[j]\n",
    "        distance = distance_df.iloc[i, j]\n",
    "        G.add_edge(node1, node2, weight=distance)\n",
    "\n",
    "# Create the Minimum Spanning Tree (MST)\n",
    "mst = nx.minimum_spanning_tree(G)\n",
    "\n",
    "# Draw the MST\n",
    "pos = nx.spring_layout(mst)\n",
    "nx.draw(mst, pos, with_labels=True, node_color='lightblue', edge_color='gray', font_size=8, node_size=200)\n",
    "\n",
    "# Show the plot\n",
    "plt.show()\n"
   ]
  }
 ],
 "metadata": {
  "language_info": {
   "name": "python"
  }
 },
 "nbformat": 4,
 "nbformat_minor": 2
}
