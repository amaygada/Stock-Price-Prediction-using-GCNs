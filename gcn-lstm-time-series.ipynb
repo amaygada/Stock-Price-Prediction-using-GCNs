{
 "cells": [
  {
   "cell_type": "markdown",
   "metadata": {},
   "source": [
    "# Forecasting using spatio-temporal data with combined Graph Convolution + LSTM model"
   ]
  },
  {
   "cell_type": "markdown",
   "metadata": {
    "nbsphinx": "hidden",
    "tags": [
     "CloudRunner"
    ]
   },
   "source": [
    "<table><tr><td>Run the latest release of this notebook:</td><td><a href=\"https://mybinder.org/v2/gh/stellargraph/stellargraph/master?urlpath=lab/tree/demos/time-series/gcn-lstm-time-series.ipynb\" alt=\"Open In Binder\" target=\"_parent\"><img src=\"https://mybinder.org/badge_logo.svg\"/></a></td><td><a href=\"https://colab.research.google.com/github/stellargraph/stellargraph/blob/master/demos/time-series/gcn-lstm-time-series.ipynb\" alt=\"Open In Colab\" target=\"_parent\"><img src=\"https://colab.research.google.com/assets/colab-badge.svg\"/></a></td></tr></table>"
   ]
  },
  {
   "cell_type": "markdown",
   "metadata": {},
   "source": [
    "The dynamics of many real-world phenomena are spatio-temporal in nature. Traffic forecasting is a quintessential example of spatio-temporal problems for which we present here a deep learning framework that models speed prediction using spatio-temporal data. The task is challenging due to two main inter-linked factors: (1) the complex spatial dependency on road networks, and (2) non-linear temporal dynamics with changing road conditions.\n",
    "\n",
    "To address these challenges, here we  explore a neural network architecture that learns from both the spatial road network data and time-series of historical speed changes to forecast speeds on road segments at a future time. In the following we demo how to forecast speeds on road segments through a `graph convolution` and `LSTM` hybrid model.  The spatial dependency of the road networks are learnt through multiple graph convolution layers  stacked over multiple LSTM,  sequence to sequence model, layers that leverage the historical speeds on top of the network structure to predicts speeds in the future for each entity. \n",
    "\n",
    "The architecture of the GCN-LSTM model is inspired by the paper: [T-GCN: A Temporal Graph Convolutional Network for Traffic Prediction](https://ieeexplore.ieee.org/document/8809901).\n",
    "\n",
    "The authors have made available the implementation of their model in their GitHub [repository](https://github.com/lehaifeng/T-GCN).\n",
    "There has been a few differences in the architecture proposed in the paper and the implementation of the graph convolution component, these issues have been documented [here](https://github.com/lehaifeng/T-GCN/issues/18) and [here](https://github.com/lehaifeng/T-GCN/issues/14). The `GCN_LSTM` model in `StellarGraph`  emulates the model as explained in the paper while giving additional flexibility of adding any number of `graph convolution` and `LSTM` layers. \n",
    "\n",
    "Concretely, the architecture of `GCN_LSTM` is as follows:\n",
    "\n",
    "1. User defined number of  graph convolutional layers (Reference: [Kipf & Welling (ICLR 2017)](http://arxiv.org/abs/1609.02907)).\n",
    "2. User defined number of  LSTM layers. The [TGCN](https://ieeexplore.ieee.org/document/8809901) uses GRU instead of LSTM. In practice there are not any remarkable differences between the two types of layers. We use LSTM as they are more frequently used.\n",
    "3. A Dropout and a Dense layer as they experimentally showed improvement in performance and managing over-fitting.\n",
    "\n",
    "## References: \n",
    "\n",
    "* [T-GCN: A Temporal Graph Convolutional Network for Traffic Prediction](https://ieeexplore.ieee.org/document/8809901)\n",
    "* [https://github.com/lehaifeng/T-GCN](https://github.com/lehaifeng/T-GCN)\n",
    "* [Semi-Supervised Classification with Graph Convolutional Networks](http://arxiv.org/abs/1609.02907)\n",
    "\n",
    "**Note: this method is applicable for uni-variate timeseries forecasting.**"
   ]
  },
  {
   "cell_type": "code",
   "execution_count": 1,
   "metadata": {
    "is_executing": true,
    "nbsphinx": "hidden",
    "tags": [
     "CloudRunner"
    ]
   },
   "outputs": [],
   "source": [
    "# install StellarGraph if running on Google Colab\n",
    "import sys\n",
    "if 'google.colab' in sys.modules:\n",
    "  %pip install -q stellargraph[demos]==1.2.1"
   ]
  },
  {
   "cell_type": "code",
   "execution_count": 2,
   "metadata": {
    "nbsphinx": "hidden",
    "tags": [
     "VersionCheck"
    ]
   },
   "outputs": [],
   "source": [
    "# verify that we're using the correct version of StellarGraph for this notebook\n",
    "import stellargraph as sg\n",
    "\n",
    "try:\n",
    "    sg.utils.validate_notebook_version(\"1.2.1\")\n",
    "except AttributeError:\n",
    "    raise ValueError(\n",
    "        f\"This notebook requires StellarGraph version 1.2.1, but a different version {sg.__version__} is installed.  Please see <https://github.com/stellargraph/stellargraph/issues/1172>.\"\n",
    "    ) from None"
   ]
  },
  {
   "cell_type": "code",
   "execution_count": 3,
   "metadata": {},
   "outputs": [],
   "source": [
    "import os\n",
    "import sys\n",
    "import urllib.request\n",
    "\n",
    "import numpy as np\n",
    "import matplotlib.pyplot as plt\n",
    "import matplotlib.lines as mlines\n",
    "\n",
    "import tensorflow as tf\n",
    "from tensorflow import keras\n",
    "from tensorflow.keras import Sequential, Model\n",
    "from tensorflow.keras.layers import LSTM, Dense, Dropout, Input"
   ]
  },
  {
   "cell_type": "markdown",
   "metadata": {},
   "source": [
    "## Data\n",
    "\n",
    "We apply the GCN-LSTM model to the **Los-loop** data. This traffic dataset\n",
    "contains traffic information collected from loop detectors in the highway of Los Angeles County (Jagadish\n",
    "et al., 2014).  There are several processed versions of this dataset used by the research community working in Traffic forecasting space. \n",
    "\n",
    "This demo is based on the preprocessed version of the dataset used by the TGCN paper. It can be directly accessed from there [github repo](https://github.com/lehaifeng/T-GCN/tree/master/data). \n",
    "\n",
    "This dataset  contains traffic speeds from Mar.1 to Mar.7, 2012 of 207 sensors, recorded every 5 minutes. \n",
    "\n",
    "In order to use the model, we need:\n",
    "\n",
    "* A N by N adjacency matrix, which describes the distance relationship between the N sensors,\n",
    "* A N by T feature matrix, which describes the (f_1, .., f_T) speed records over T timesteps for the N sensors.\n",
    "\n",
    "A couple of other references for the same data albeit different time length are as follows: \n",
    "\n",
    "* [DIFFUSION CONVOLUTIONAL RECURRENT NEURAL NETWORK: DATA-DRIVEN TRAFFIC FORECASTING](https://github.com/liyaguang/DCRNN/tree/master/data): This dataset consists of 207 sensors and collect 4 months of data ranging from Mar 1st 2012 to Jun 30th 2012 for the experiment. It has some missing values.\n",
    "* [ST-MetaNet: Urban Traffic Prediction from Spatio-Temporal Data Using Deep Meta Learning](https://github.com/panzheyi/ST-MetaNet/tree/master/traffic-prediction). This work uses the DCRNN preprocessed data."
   ]
  },
  {
   "cell_type": "markdown",
   "metadata": {},
   "source": [
    "## Loading and preprocessing the data"
   ]
  },
  {
   "cell_type": "code",
   "execution_count": 4,
   "metadata": {},
   "outputs": [],
   "source": [
    "import stellargraph as sg\n",
    "import pandas as pd\n",
    "import numpy as np"
   ]
  },
  {
   "cell_type": "code",
   "execution_count": 5,
   "metadata": {},
   "outputs": [
    {
     "name": "stdout",
     "output_type": "stream",
     "text": [
      "There are no NaN values in the DataFrame.\n"
     ]
    },
    {
     "data": {
      "text/plain": [
       "(498, 498)"
      ]
     },
     "execution_count": 5,
     "metadata": {},
     "output_type": "execute_result"
    }
   ],
   "source": [
    "distance_matrix = pd.read_csv('Data/Distance_Return.csv', index_col=0)\n",
    "distance_matrix = distance_matrix.sort_index(axis=0)\n",
    "distance_matrix = distance_matrix.sort_index(axis=1)\n",
    "distance_matrix.drop('KVUE',axis=1,inplace=True)\n",
    "distance_matrix.drop('KVUE',axis=0,inplace=True)\n",
    "distance_matrix.drop('GEHC',axis=1,inplace=True)\n",
    "distance_matrix.drop('GEHC',axis=0,inplace=True)\n",
    "\n",
    "companies = distance_matrix.index\n",
    "\n",
    "if distance_matrix.isna().any().any():\n",
    "    print(\"There are NaN values in the DataFrame.\")\n",
    "else:\n",
    "    print(\"There are no NaN values in the DataFrame.\")\n",
    "\n",
    "distance_matrix = np.matrix(distance_matrix.round(5).values)\n",
    "distance_matrix.shape"
   ]
  },
  {
   "cell_type": "code",
   "execution_count": 6,
   "metadata": {},
   "outputs": [],
   "source": [
    "company_ticker_list = sorted(list(pd.read_csv('Data/CompanyData.csv')['Ticker']))\n",
    "\n",
    "closing_price_lists = []\n",
    "for ticker in company_ticker_list:\n",
    "    try:\n",
    "        if(ticker not in ['BF.B','BRK.B','VLTO','KVUE','GEHC']):\n",
    "            closing_price_list = list(pd.read_csv('Data/dataset/One_Year_Daily_Data/{}_daily_data.csv'.format(ticker))['close'])\n",
    "            closing_price_lists.append(closing_price_list)\n",
    "    except:\n",
    "        print(ticker)\n",
    "\n",
    "closing_price_df = pd.DataFrame(closing_price_lists)"
   ]
  },
  {
   "cell_type": "code",
   "execution_count": 7,
   "metadata": {},
   "outputs": [
    {
     "data": {
      "text/plain": [
       "(498, 250)"
      ]
     },
     "execution_count": 7,
     "metadata": {},
     "output_type": "execute_result"
    }
   ],
   "source": [
    "closing_price_df.shape"
   ]
  },
  {
   "cell_type": "markdown",
   "metadata": {},
   "source": [
    "This demo is based on the preprocessed version of the dataset used by the TGCN paper."
   ]
  },
  {
   "cell_type": "code",
   "execution_count": 8,
   "metadata": {},
   "outputs": [
    {
     "name": "stderr",
     "output_type": "stream",
     "text": [
      "/var/folders/k8/5ctpzjkx23b81wdx5vx3vs840000gr/T/ipykernel_19829/379535381.py:1: ExperimentalWarning: METR_LA is experimental: tests and documentation missing (see: https://github.com/stellargraph/stellargraph/issues/1303). It may be difficult to use and may have major changes at any time.\n",
      "  dataset = sg.datasets.METR_LA()\n"
     ]
    }
   ],
   "source": [
    "dataset = sg.datasets.METR_LA()"
   ]
  },
  {
   "cell_type": "markdown",
   "metadata": {
    "tags": [
     "DataLoadingLinks"
    ]
   },
   "source": [
    "(See [the \"Loading from Pandas\" demo](../basics/loading-pandas.ipynb) for details on how data can be loaded.)"
   ]
  },
  {
   "cell_type": "code",
   "execution_count": 9,
   "metadata": {
    "tags": [
     "DataLoading"
    ]
   },
   "outputs": [
    {
     "name": "stdout",
     "output_type": "stream",
     "text": [
      "No. of sensors: 207 \n",
      "No of timesteps: 2016\n"
     ]
    }
   ],
   "source": [
    "speed_data, sensor_dist_adj = dataset.load()\n",
    "num_nodes, time_len = speed_data.shape\n",
    "print(\"No. of sensors:\", num_nodes, \"\\nNo of timesteps:\", time_len)"
   ]
  },
  {
   "cell_type": "code",
   "execution_count": 10,
   "metadata": {},
   "outputs": [
    {
     "data": {
      "text/plain": [
       "matrix([[1.        , 0.        , 0.        , ..., 0.        , 0.        ,\n",
       "         0.        ],\n",
       "        [0.        , 1.        , 0.71743792, ..., 0.        , 0.        ,\n",
       "         0.        ],\n",
       "        [0.        , 0.71743792, 1.        , ..., 0.        , 0.        ,\n",
       "         0.        ],\n",
       "        ...,\n",
       "        [0.        , 0.        , 0.        , ..., 1.        , 0.        ,\n",
       "         0.        ],\n",
       "        [0.        , 0.        , 0.        , ..., 0.        , 1.        ,\n",
       "         0.        ],\n",
       "        [0.        , 0.        , 0.        , ..., 0.        , 0.        ,\n",
       "         1.        ]])"
      ]
     },
     "execution_count": 10,
     "metadata": {},
     "output_type": "execute_result"
    }
   ],
   "source": [
    "sensor_dist_adj"
   ]
  },
  {
   "cell_type": "code",
   "execution_count": 11,
   "metadata": {},
   "outputs": [
    {
     "data": {
      "text/plain": [
       "matrix([[0.     , 1.104  , 0.96047, ..., 0.8032 , 1.09787, 0.90665],\n",
       "        [1.104  , 0.     , 1.04347, ..., 0.97724, 0.95639, 1.24177],\n",
       "        [0.96047, 1.04347, 0.     , ..., 0.83741, 1.25259, 0.96767],\n",
       "        ...,\n",
       "        [0.8032 , 0.97724, 0.83741, ..., 0.     , 1.04968, 0.91368],\n",
       "        [1.09787, 0.95639, 1.25259, ..., 1.04968, 0.     , 1.22136],\n",
       "        [0.90665, 1.24177, 0.96767, ..., 0.91368, 1.22136, 0.     ]])"
      ]
     },
     "execution_count": 11,
     "metadata": {},
     "output_type": "execute_result"
    }
   ],
   "source": [
    "distance_matrix"
   ]
  },
  {
   "cell_type": "code",
   "execution_count": 8,
   "metadata": {},
   "outputs": [
    {
     "name": "stdout",
     "output_type": "stream",
     "text": [
      "No. of stocks: 498 \n",
      "No of timesteps: 250\n"
     ]
    }
   ],
   "source": [
    "num_nodes, time_len = closing_price_df.shape\n",
    "print(\"No. of stocks:\", num_nodes, \"\\nNo of timesteps:\", time_len)"
   ]
  },
  {
   "cell_type": "markdown",
   "metadata": {},
   "source": [
    "**Let's look at a sample of speed data.**"
   ]
  },
  {
   "cell_type": "code",
   "execution_count": 9,
   "metadata": {},
   "outputs": [
    {
     "data": {
      "text/html": [
       "<div>\n",
       "<style scoped>\n",
       "    .dataframe tbody tr th:only-of-type {\n",
       "        vertical-align: middle;\n",
       "    }\n",
       "\n",
       "    .dataframe tbody tr th {\n",
       "        vertical-align: top;\n",
       "    }\n",
       "\n",
       "    .dataframe thead th {\n",
       "        text-align: right;\n",
       "    }\n",
       "</style>\n",
       "<table border=\"1\" class=\"dataframe\">\n",
       "  <thead>\n",
       "    <tr style=\"text-align: right;\">\n",
       "      <th></th>\n",
       "      <th>0</th>\n",
       "      <th>1</th>\n",
       "      <th>2</th>\n",
       "      <th>3</th>\n",
       "      <th>4</th>\n",
       "      <th>5</th>\n",
       "      <th>6</th>\n",
       "      <th>7</th>\n",
       "      <th>8</th>\n",
       "      <th>9</th>\n",
       "      <th>...</th>\n",
       "      <th>240</th>\n",
       "      <th>241</th>\n",
       "      <th>242</th>\n",
       "      <th>243</th>\n",
       "      <th>244</th>\n",
       "      <th>245</th>\n",
       "      <th>246</th>\n",
       "      <th>247</th>\n",
       "      <th>248</th>\n",
       "      <th>249</th>\n",
       "    </tr>\n",
       "  </thead>\n",
       "  <tbody>\n",
       "    <tr>\n",
       "      <th>0</th>\n",
       "      <td>152.300003</td>\n",
       "      <td>150.940002</td>\n",
       "      <td>154.979996</td>\n",
       "      <td>156.119995</td>\n",
       "      <td>155.669998</td>\n",
       "      <td>152.699997</td>\n",
       "      <td>151.350006</td>\n",
       "      <td>153.729996</td>\n",
       "      <td>156.279999</td>\n",
       "      <td>152.949997</td>\n",
       "      <td>...</td>\n",
       "      <td>108.470001</td>\n",
       "      <td>107.459999</td>\n",
       "      <td>111.610001</td>\n",
       "      <td>113.599998</td>\n",
       "      <td>114.190002</td>\n",
       "      <td>113.150002</td>\n",
       "      <td>113.980003</td>\n",
       "      <td>123.919998</td>\n",
       "      <td>123.989998</td>\n",
       "      <td>126.620003</td>\n",
       "    </tr>\n",
       "    <tr>\n",
       "      <th>1</th>\n",
       "      <td>13.830000</td>\n",
       "      <td>14.140000</td>\n",
       "      <td>14.430000</td>\n",
       "      <td>13.980000</td>\n",
       "      <td>13.970000</td>\n",
       "      <td>14.110000</td>\n",
       "      <td>14.330000</td>\n",
       "      <td>13.550000</td>\n",
       "      <td>13.600000</td>\n",
       "      <td>13.530000</td>\n",
       "      <td>...</td>\n",
       "      <td>11.800000</td>\n",
       "      <td>11.780000</td>\n",
       "      <td>12.250000</td>\n",
       "      <td>12.420000</td>\n",
       "      <td>12.190000</td>\n",
       "      <td>12.290000</td>\n",
       "      <td>12.400000</td>\n",
       "      <td>12.130000</td>\n",
       "      <td>12.310000</td>\n",
       "      <td>12.310000</td>\n",
       "    </tr>\n",
       "    <tr>\n",
       "      <th>2</th>\n",
       "      <td>144.220001</td>\n",
       "      <td>141.169998</td>\n",
       "      <td>148.029999</td>\n",
       "      <td>148.309998</td>\n",
       "      <td>147.809998</td>\n",
       "      <td>146.630005</td>\n",
       "      <td>142.910004</td>\n",
       "      <td>140.940002</td>\n",
       "      <td>142.649994</td>\n",
       "      <td>142.160004</td>\n",
       "      <td>...</td>\n",
       "      <td>186.399994</td>\n",
       "      <td>184.800003</td>\n",
       "      <td>187.440002</td>\n",
       "      <td>188.009995</td>\n",
       "      <td>189.710007</td>\n",
       "      <td>189.690002</td>\n",
       "      <td>191.449997</td>\n",
       "      <td>190.639999</td>\n",
       "      <td>191.309998</td>\n",
       "      <td>189.970001</td>\n",
       "    </tr>\n",
       "    <tr>\n",
       "      <th>3</th>\n",
       "      <td>158.429993</td>\n",
       "      <td>158.199997</td>\n",
       "      <td>161.179993</td>\n",
       "      <td>161.630005</td>\n",
       "      <td>163.660004</td>\n",
       "      <td>163.940002</td>\n",
       "      <td>163.720001</td>\n",
       "      <td>165.399994</td>\n",
       "      <td>165.990005</td>\n",
       "      <td>163.059998</td>\n",
       "      <td>...</td>\n",
       "      <td>138.589996</td>\n",
       "      <td>138.639999</td>\n",
       "      <td>138.059998</td>\n",
       "      <td>137.600006</td>\n",
       "      <td>138.279999</td>\n",
       "      <td>138.300003</td>\n",
       "      <td>138.309998</td>\n",
       "      <td>138.729996</td>\n",
       "      <td>138.470001</td>\n",
       "      <td>138.669998</td>\n",
       "    </tr>\n",
       "    <tr>\n",
       "      <th>4</th>\n",
       "      <td>95.300003</td>\n",
       "      <td>95.379997</td>\n",
       "      <td>102.139999</td>\n",
       "      <td>101.269997</td>\n",
       "      <td>101.000000</td>\n",
       "      <td>98.510002</td>\n",
       "      <td>93.120003</td>\n",
       "      <td>91.500000</td>\n",
       "      <td>94.830002</td>\n",
       "      <td>94.699997</td>\n",
       "      <td>...</td>\n",
       "      <td>118.150002</td>\n",
       "      <td>119.150002</td>\n",
       "      <td>126.680000</td>\n",
       "      <td>128.350006</td>\n",
       "      <td>126.279999</td>\n",
       "      <td>127.150002</td>\n",
       "      <td>129.699997</td>\n",
       "      <td>126.820000</td>\n",
       "      <td>129.039993</td>\n",
       "      <td>128.369995</td>\n",
       "    </tr>\n",
       "  </tbody>\n",
       "</table>\n",
       "<p>5 rows × 250 columns</p>\n",
       "</div>"
      ],
      "text/plain": [
       "          0           1           2           3           4           5    \\\n",
       "0  152.300003  150.940002  154.979996  156.119995  155.669998  152.699997   \n",
       "1   13.830000   14.140000   14.430000   13.980000   13.970000   14.110000   \n",
       "2  144.220001  141.169998  148.029999  148.309998  147.809998  146.630005   \n",
       "3  158.429993  158.199997  161.179993  161.630005  163.660004  163.940002   \n",
       "4   95.300003   95.379997  102.139999  101.269997  101.000000   98.510002   \n",
       "\n",
       "          6           7           8           9    ...         240  \\\n",
       "0  151.350006  153.729996  156.279999  152.949997  ...  108.470001   \n",
       "1   14.330000   13.550000   13.600000   13.530000  ...   11.800000   \n",
       "2  142.910004  140.940002  142.649994  142.160004  ...  186.399994   \n",
       "3  163.720001  165.399994  165.990005  163.059998  ...  138.589996   \n",
       "4   93.120003   91.500000   94.830002   94.699997  ...  118.150002   \n",
       "\n",
       "          241         242         243         244         245         246  \\\n",
       "0  107.459999  111.610001  113.599998  114.190002  113.150002  113.980003   \n",
       "1   11.780000   12.250000   12.420000   12.190000   12.290000   12.400000   \n",
       "2  184.800003  187.440002  188.009995  189.710007  189.690002  191.449997   \n",
       "3  138.639999  138.059998  137.600006  138.279999  138.300003  138.309998   \n",
       "4  119.150002  126.680000  128.350006  126.279999  127.150002  129.699997   \n",
       "\n",
       "          247         248         249  \n",
       "0  123.919998  123.989998  126.620003  \n",
       "1   12.130000   12.310000   12.310000  \n",
       "2  190.639999  191.309998  189.970001  \n",
       "3  138.729996  138.470001  138.669998  \n",
       "4  126.820000  129.039993  128.369995  \n",
       "\n",
       "[5 rows x 250 columns]"
      ]
     },
     "execution_count": 9,
     "metadata": {},
     "output_type": "execute_result"
    }
   ],
   "source": [
    "closing_price_df.head()"
   ]
  },
  {
   "cell_type": "markdown",
   "metadata": {},
   "source": [
    "As you can see above, there are 2016 observations (timesteps) of speed records over 207 sensors. Speeds are recorded every 5 minutes.  This means that, for a single hour, you will have 12 observations. Similarly, a single day will contain 288 (12x24) observations. Overall, the data consists of speeds recorded every 5 minutes over 207  for 7 days (12X24X7).\n",
    "\n",
    "### Forecasting with spatio-temporal data as a supervised learning problem \n",
    "\n",
    "Time series forecasting problem can be cast as a supervised learning problem. We can do this by using previous timesteps as input features and use the next timestep as the output to predict. Then, the spatio-temporal forecasting question can be modeled as predicting the feature value in the future, given the historical values of the feature for that entity  as well as the feature values of the entities \"connected\" to the entity.  For example, the speed prediction problem, the historical speeds of the sensors are the timeseries and the distance between the sensors is the indicator for connectivity or closeness of sensors."
   ]
  },
  {
   "cell_type": "markdown",
   "metadata": {},
   "source": [
    "### Train/test split\n",
    "\n",
    "Just like for modeling any standard supervised learning problem, we first split the data into mutually exclusive train and test sets. However, unlike, a standard supervised learning problem,  in timeseries analysis, the data is in some chronological time respecting order and the train/test happens along the timeline. Lets say, we use the first `T_t` observations for training and the remaining `T - T_t` of the  total `T` observations for testing.  \n",
    "\n",
    "In the following we use first 80% observations for training and the rest for testing."
   ]
  },
  {
   "cell_type": "code",
   "execution_count": 10,
   "metadata": {},
   "outputs": [],
   "source": [
    "def train_test_split(data, train_portion):\n",
    "    time_len = data.shape[1]\n",
    "    train_size = int(time_len * train_portion)\n",
    "    train_data = np.array(data.iloc[:, :train_size])\n",
    "    test_data = np.array(data.iloc[:, train_size:])\n",
    "    return train_data, test_data"
   ]
  },
  {
   "cell_type": "code",
   "execution_count": 11,
   "metadata": {},
   "outputs": [],
   "source": [
    "train_rate = 0.8"
   ]
  },
  {
   "cell_type": "code",
   "execution_count": 12,
   "metadata": {},
   "outputs": [
    {
     "name": "stdout",
     "output_type": "stream",
     "text": [
      "Train data:  (498, 200)\n",
      "Test data:  (498, 50)\n"
     ]
    }
   ],
   "source": [
    "train_data, test_data = train_test_split(closing_price_df, train_rate)\n",
    "print(\"Train data: \", train_data.shape)\n",
    "print(\"Test data: \", test_data.shape)"
   ]
  },
  {
   "cell_type": "code",
   "execution_count": null,
   "metadata": {},
   "outputs": [],
   "source": []
  },
  {
   "cell_type": "markdown",
   "metadata": {},
   "source": [
    "### Scaling\n",
    "It is generally a good practice to  rescale the data from the original range so that all values are within the range of 0 and 1. Normalization can be useful and even necessary when your time series data has input values with differing scales.  In the following we normalize the speed timeseries by the maximum and minimum values of speeds in the train data. \n",
    "\n",
    "Note: `MinMaxScaler` in `scikit learn` library is typically used for transforming data. However, in timeseries data since the features are distinct timesteps, so using the historical range of values in a particular timestep as the range of values in later timesteps, may not be correct.  Hence, we use the maximum and the minimum of the entire range of values in the timeseries to scale and transform the train and test sets respectively."
   ]
  },
  {
   "cell_type": "code",
   "execution_count": 13,
   "metadata": {},
   "outputs": [],
   "source": [
    "def scale_data(train_data, test_data):\n",
    "    max_speed = train_data.max()\n",
    "    min_speed = train_data.min()\n",
    "    train_scaled = (train_data - min_speed) / (max_speed - min_speed)\n",
    "    test_scaled = (test_data - min_speed) / (max_speed - min_speed)\n",
    "    return train_scaled, test_scaled"
   ]
  },
  {
   "cell_type": "code",
   "execution_count": 14,
   "metadata": {},
   "outputs": [],
   "source": [
    "train_scaled, test_scaled = scale_data(train_data, test_data)"
   ]
  },
  {
   "cell_type": "code",
   "execution_count": 15,
   "metadata": {},
   "outputs": [
    {
     "data": {
      "text/plain": [
       "(498, 50)"
      ]
     },
     "execution_count": 15,
     "metadata": {},
     "output_type": "execute_result"
    }
   ],
   "source": [
    "test_data.shape"
   ]
  },
  {
   "cell_type": "code",
   "execution_count": 59,
   "metadata": {},
   "outputs": [
    {
     "data": {
      "text/plain": [
       "array([60.        , 56.74000168, 56.5       , 57.20999908, 56.95999908,\n",
       "       57.59999847, 57.5       , 57.45000076, 57.5       , 58.        ,\n",
       "       58.38000107, 56.        , 60.49000168, 59.        , 58.95000076,\n",
       "       58.09999847, 60.        , 64.98999786, 65.65000153, 65.44000244,\n",
       "       63.33000183, 62.08000183, 63.93999863, 66.76999664, 69.51999664,\n",
       "       69.59999847, 68.70999908, 69.22000122, 70.08000183, 71.5       ,\n",
       "       69.51999664, 70.01000214, 70.65000153, 70.55000305, 71.86000061,\n",
       "       71.62999725, 70.16999817, 68.41000366, 69.23999786, 69.43000031,\n",
       "       72.61000061, 72.31999969, 70.91000366, 73.16999817, 72.47000122,\n",
       "       71.94000244, 75.90000153, 75.01000214, 76.04000092, 76.        ,\n",
       "       75.30000305, 75.04000092, 76.37000275, 76.68000031, 76.25      ,\n",
       "       76.62999725, 76.37999725, 74.97000122, 76.23999786, 77.13999939,\n",
       "       76.76000214, 76.62000275, 75.83999634, 75.19999695, 76.51999664,\n",
       "       74.76999664, 75.70999908, 76.45999908, 76.37999725, 76.90000153,\n",
       "       79.23999786, 82.13999939, 82.02999878, 81.80999756, 81.58999634,\n",
       "       81.12000275, 80.16000366, 80.58999634, 80.58999634, 81.75      ,\n",
       "       82.94000244, 82.37000275, 82.72000122, 83.66000366, 85.75      ,\n",
       "       85.        , 86.48000336, 87.79000092, 80.38999939, 80.12000275,\n",
       "       81.51999664, 81.33999634, 80.77999878, 78.45999908, 79.70999908,\n",
       "       78.26000214, 78.98999786, 79.41999817, 76.37000275, 75.90000153,\n",
       "       74.98999786, 74.91999817, 74.93000031, 77.77999878, 80.30000305,\n",
       "       79.69000244, 79.33999634, 79.08000183, 77.19000244, 76.52999878,\n",
       "       79.86000061, 78.43000031, 77.95999908, 79.51000214, 79.83000183,\n",
       "       79.97000122, 80.48999786, 82.93000031, 80.48000336, 77.75      ,\n",
       "       77.09999847, 78.26999664, 77.79000092, 78.52999878, 79.09999847,\n",
       "       78.65000153, 78.90000153, 79.62000275, 80.20999908, 79.81999969,\n",
       "       77.80000305, 77.06999969, 77.19000244, 78.68000031, 81.23999786,\n",
       "       80.69000244, 80.65000153, 79.12000275, 79.62000275, 80.66000366,\n",
       "       81.26000214, 81.69000244, 81.40000153, 81.81999969, 81.19000244,\n",
       "       82.47000122, 81.75      , 81.84999847, 82.62999725, 80.62999725,\n",
       "       80.20999908, 77.43000031, 76.86000061, 77.87000275, 78.        ,\n",
       "       77.69000244, 76.58999634, 76.01999664, 75.90000153, 75.58999634,\n",
       "       73.93000031, 73.91999817, 72.30000305, 71.58999634, 71.80000305,\n",
       "       70.54000092, 70.66999817, 68.38999939, 68.36000061, 68.97000122,\n",
       "       68.93000031, 68.98999786, 68.43000031, 68.58999634, 69.30999756,\n",
       "       70.48000336, 70.38999939, 70.44999695, 69.25      , 67.66000366,\n",
       "       66.98000336, 65.90000153, 64.90000153, 66.62000275, 65.40000153,\n",
       "       64.52999878, 66.        , 66.43000031, 66.27999878, 66.12000275,\n",
       "       65.01000214, 63.88999939, 64.33000183, 66.48000336, 66.20999908,\n",
       "       68.27999878, 69.77999878, 68.04000092, 67.83999634, 66.98000336])"
      ]
     },
     "execution_count": 59,
     "metadata": {},
     "output_type": "execute_result"
    }
   ],
   "source": [
    "train_data[197]"
   ]
  },
  {
   "cell_type": "markdown",
   "metadata": {},
   "source": [
    "### Sequence data preparation for LSTM\n",
    "\n",
    "We first need to prepare the data to be fed into an LSTM. \n",
    "The LSTM model learns a function that maps a sequence of past observations as input to an output observation. As such, the sequence of observations must be transformed into multiple examples from which the LSTM can learn.\n",
    "\n",
    "To make it concrete in terms of the speed prediction problem, we choose to use 50 minutes of historical speed observations to predict the speed in future, lets say, 1 hour ahead. Hence, we would first  reshape the timeseries data into windows of 10 historical observations for each segment as the input and the speed 60 minutes later is the label we are interested in predicting. We use the sliding window approach to prepare the data. This is how it works:  \n",
    "\n",
    "* Starting from the beginning of the timeseries, we take the first 10 speed records as the 10 input features and the speed 12 timesteps head (60 minutes) as the speed we want to predict. \n",
    "* Shift the timeseries by one timestep and take the 10 observations from the current point as the input features and the speed one hour ahead as the output to predict. \n",
    "* Keep shifting by 1 timestep and picking the 10 timestep window from the current time as input feature and the speed one hour ahead of the 10th timestep as the output to predict, for the entire data.\n",
    "* The above steps are done for each sensor. \n",
    "\n",
    "The function below returns the above transformed timeseries data for the model to train on. The parameter `seq_len` is the size of the past window of information. The `pre_len` is how far in the future does the model need to learn to predict. \n",
    "\n",
    "For this demo: \n",
    "\n",
    "* Each training observation are 10 historical speeds (`seq_len`).\n",
    "* Each training prediction is the speed 60 minutes later (`pre_len`)."
   ]
  },
  {
   "cell_type": "code",
   "execution_count": 16,
   "metadata": {},
   "outputs": [],
   "source": [
    "seq_len = 10\n",
    "pre_len = 12"
   ]
  },
  {
   "cell_type": "code",
   "execution_count": 17,
   "metadata": {},
   "outputs": [],
   "source": [
    "def sequence_data_preparation(seq_len, pre_len, train_data, test_data):\n",
    "    trainX, trainY, testX, testY = [], [], [], []\n",
    "\n",
    "    for i in range(train_data.shape[1] - int(seq_len + pre_len - 1)):\n",
    "        a = train_data[:, i : i + seq_len + pre_len]\n",
    "        trainX.append(a[:, :seq_len])\n",
    "        trainY.append(a[:, -1])\n",
    "\n",
    "    for i in range(test_data.shape[1] - int(seq_len + pre_len - 1)):\n",
    "        b = test_data[:, i : i + seq_len + pre_len]\n",
    "        testX.append(b[:, :seq_len])\n",
    "        testY.append(b[:, -1])\n",
    "\n",
    "    trainX = np.array(trainX)\n",
    "    trainY = np.array(trainY)\n",
    "    testX = np.array(testX)\n",
    "    testY = np.array(testY)\n",
    "\n",
    "    return trainX, trainY, testX, testY"
   ]
  },
  {
   "cell_type": "code",
   "execution_count": 18,
   "metadata": {},
   "outputs": [
    {
     "name": "stdout",
     "output_type": "stream",
     "text": [
      "(179, 498, 10)\n",
      "(179, 498)\n",
      "(29, 498, 10)\n",
      "(29, 498)\n"
     ]
    }
   ],
   "source": [
    "trainX, trainY, testX, testY = sequence_data_preparation(\n",
    "    seq_len, pre_len, train_scaled, test_scaled\n",
    ")\n",
    "print(trainX.shape)\n",
    "print(trainY.shape)\n",
    "print(testX.shape)\n",
    "print(testY.shape)"
   ]
  },
  {
   "cell_type": "code",
   "execution_count": 20,
   "metadata": {},
   "outputs": [
    {
     "data": {
      "text/plain": [
       "(array([], dtype=int64), array([], dtype=int64))"
      ]
     },
     "execution_count": 20,
     "metadata": {},
     "output_type": "execute_result"
    }
   ],
   "source": [
    "np.where(np.isnan(testY))\n"
   ]
  },
  {
   "cell_type": "code",
   "execution_count": 28,
   "metadata": {},
   "outputs": [
    {
     "data": {
      "text/plain": [
       "array([[0.01596972, 0.00065675, 0.02630858, ..., 0.03188407, 0.00434503,\n",
       "        0.02576411],\n",
       "       [0.01610814, 0.00065675, 0.02606711, ..., 0.03157953, 0.00447115,\n",
       "        0.02562261],\n",
       "       [0.01552522, 0.00056755, 0.02586562, ..., 0.0309843 , 0.00430966,\n",
       "        0.02489664],\n",
       "       ...,\n",
       "       [0.01787999, 0.00068598, 0.02814196, ..., 0.03302839, 0.0040974 ,\n",
       "        0.02631012],\n",
       "       [0.01789076, 0.00071366, 0.02824501, ..., 0.03355902, 0.00411278,\n",
       "        0.02640548],\n",
       "       [0.01829527, 0.00071366, 0.02803891, ..., 0.03402967, 0.00410355,\n",
       "        0.02653776]])"
      ]
     },
     "execution_count": 28,
     "metadata": {},
     "output_type": "execute_result"
    }
   ],
   "source": [
    "testY"
   ]
  },
  {
   "cell_type": "markdown",
   "metadata": {},
   "source": [
    "## StellarGraph Graph Convolution and LSTM model"
   ]
  },
  {
   "cell_type": "code",
   "execution_count": 21,
   "metadata": {},
   "outputs": [],
   "source": [
    "from stellargraph.layer import GCN_LSTM"
   ]
  },
  {
   "cell_type": "code",
   "execution_count": 22,
   "metadata": {},
   "outputs": [
    {
     "name": "stderr",
     "output_type": "stream",
     "text": [
      "/var/folders/k8/5ctpzjkx23b81wdx5vx3vs840000gr/T/ipykernel_93531/2530982355.py:1: ExperimentalWarning: GCN_LSTM is experimental: Lack of unit tests and code refinement (see: https://github.com/stellargraph/stellargraph/issues/1132, https://github.com/stellargraph/stellargraph/issues/1526, https://github.com/stellargraph/stellargraph/issues/1564). It may be difficult to use and may have major changes at any time.\n",
      "  gcn_lstm = GCN_LSTM(\n"
     ]
    }
   ],
   "source": [
    "gcn_lstm = GCN_LSTM(\n",
    "    seq_len=seq_len,\n",
    "    adj=distance_matrix,\n",
    "    gc_layer_sizes=[16, 10],\n",
    "    gc_activations=[\"relu\", \"relu\"],\n",
    "    lstm_layer_sizes=[200, 200],\n",
    "    lstm_activations=[\"tanh\", \"tanh\"],\n",
    ")"
   ]
  },
  {
   "cell_type": "code",
   "execution_count": 23,
   "metadata": {},
   "outputs": [],
   "source": [
    "x_input, x_output = gcn_lstm.in_out_tensors()"
   ]
  },
  {
   "cell_type": "code",
   "execution_count": 24,
   "metadata": {},
   "outputs": [],
   "source": [
    "model = Model(inputs=x_input, outputs=x_output)"
   ]
  },
  {
   "cell_type": "code",
   "execution_count": 25,
   "metadata": {},
   "outputs": [],
   "source": [
    "model.compile(optimizer=\"adam\", loss=\"mae\", metrics=[\"mse\"])"
   ]
  },
  {
   "cell_type": "code",
   "execution_count": 26,
   "metadata": {},
   "outputs": [
    {
     "name": "stdout",
     "output_type": "stream",
     "text": [
      "Model: \"model\"\n",
      "_________________________________________________________________\n",
      " Layer (type)                Output Shape              Param #   \n",
      "=================================================================\n",
      " input_1 (InputLayer)        [(None, 498, 10)]         0         \n",
      "                                                                 \n",
      " tf.expand_dims (TFOpLambda  (None, 498, 10, 1)        0         \n",
      " )                                                               \n",
      "                                                                 \n",
      " reshape (Reshape)           (None, 498, 10)           0         \n",
      "                                                                 \n",
      " fixed_adjacency_graph_conv  (None, 498, 16)           248662    \n",
      " olution (FixedAdjacencyGra                                      \n",
      " phConvolution)                                                  \n",
      "                                                                 \n",
      " fixed_adjacency_graph_conv  (None, 498, 10)           248662    \n",
      " olution_1 (FixedAdjacencyG                                      \n",
      " raphConvolution)                                                \n",
      "                                                                 \n",
      " reshape_1 (Reshape)         (None, 498, 10, 1)        0         \n",
      "                                                                 \n",
      " permute (Permute)           (None, 10, 498, 1)        0         \n",
      "                                                                 \n",
      " reshape_2 (Reshape)         (None, 10, 498)           0         \n",
      "                                                                 \n",
      " lstm (LSTM)                 (None, 10, 200)           559200    \n",
      "                                                                 \n",
      " lstm_1 (LSTM)               (None, 200)               320800    \n",
      "                                                                 \n",
      " dropout (Dropout)           (None, 200)               0         \n",
      "                                                                 \n",
      " dense (Dense)               (None, 498)               100098    \n",
      "                                                                 \n",
      "=================================================================\n",
      "Total params: 1477422 (5.64 MB)\n",
      "Trainable params: 981414 (3.74 MB)\n",
      "Non-trainable params: 496008 (1.89 MB)\n",
      "_________________________________________________________________\n"
     ]
    }
   ],
   "source": [
    "model.summary()"
   ]
  },
  {
   "cell_type": "code",
   "execution_count": 27,
   "metadata": {},
   "outputs": [
    {
     "name": "stdout",
     "output_type": "stream",
     "text": [
      "Epoch 1/100\n",
      "3/3 [==============================] - 2s 187ms/step - loss: 0.4722 - mse: 0.2243 - val_loss: 0.4623 - val_mse: 0.2153\n",
      "Epoch 2/100\n",
      "3/3 [==============================] - 0s 37ms/step - loss: 0.4461 - mse: 0.2018 - val_loss: 0.3911 - val_mse: 0.1569\n",
      "Epoch 3/100\n",
      "3/3 [==============================] - 0s 38ms/step - loss: 0.3447 - mse: 0.1315 - val_loss: 0.2467 - val_mse: 0.0698\n",
      "Epoch 4/100\n",
      "3/3 [==============================] - 0s 37ms/step - loss: 0.2186 - mse: 0.0657 - val_loss: 0.1330 - val_mse: 0.0244\n",
      "Epoch 5/100\n",
      "3/3 [==============================] - 0s 52ms/step - loss: 0.1241 - mse: 0.0279 - val_loss: 0.0656 - val_mse: 0.0070\n",
      "Epoch 6/100\n",
      "3/3 [==============================] - 0s 40ms/step - loss: 0.0690 - mse: 0.0107 - val_loss: 0.0340 - val_mse: 0.0020\n",
      "Epoch 7/100\n",
      "3/3 [==============================] - 0s 38ms/step - loss: 0.0398 - mse: 0.0040 - val_loss: 0.0210 - val_mse: 8.2181e-04\n",
      "Epoch 8/100\n",
      "3/3 [==============================] - 0s 42ms/step - loss: 0.0260 - mse: 0.0018 - val_loss: 0.0162 - val_mse: 5.7695e-04\n",
      "Epoch 9/100\n",
      "3/3 [==============================] - 0s 44ms/step - loss: 0.0203 - mse: 0.0011 - val_loss: 0.0148 - val_mse: 5.4079e-04\n",
      "Epoch 10/100\n",
      "3/3 [==============================] - 0s 45ms/step - loss: 0.0176 - mse: 8.1140e-04 - val_loss: 0.0149 - val_mse: 5.6207e-04\n",
      "Epoch 11/100\n",
      "3/3 [==============================] - 0s 40ms/step - loss: 0.0167 - mse: 7.5121e-04 - val_loss: 0.0153 - val_mse: 5.8185e-04\n",
      "Epoch 12/100\n",
      "3/3 [==============================] - 0s 41ms/step - loss: 0.0162 - mse: 7.0181e-04 - val_loss: 0.0155 - val_mse: 5.7087e-04\n",
      "Epoch 13/100\n",
      "3/3 [==============================] - 0s 40ms/step - loss: 0.0161 - mse: 6.8048e-04 - val_loss: 0.0153 - val_mse: 5.3075e-04\n",
      "Epoch 14/100\n",
      "3/3 [==============================] - 0s 37ms/step - loss: 0.0157 - mse: 6.5910e-04 - val_loss: 0.0150 - val_mse: 4.8345e-04\n",
      "Epoch 15/100\n",
      "3/3 [==============================] - 0s 39ms/step - loss: 0.0155 - mse: 6.3765e-04 - val_loss: 0.0145 - val_mse: 4.3869e-04\n",
      "Epoch 16/100\n",
      "3/3 [==============================] - 0s 39ms/step - loss: 0.0154 - mse: 6.4911e-04 - val_loss: 0.0140 - val_mse: 3.9457e-04\n",
      "Epoch 17/100\n",
      "3/3 [==============================] - 0s 42ms/step - loss: 0.0151 - mse: 6.2662e-04 - val_loss: 0.0135 - val_mse: 3.5259e-04\n",
      "Epoch 18/100\n",
      "3/3 [==============================] - 0s 44ms/step - loss: 0.0147 - mse: 6.1414e-04 - val_loss: 0.0132 - val_mse: 3.2350e-04\n",
      "Epoch 19/100\n",
      "3/3 [==============================] - 0s 44ms/step - loss: 0.0147 - mse: 6.0463e-04 - val_loss: 0.0128 - val_mse: 3.0117e-04\n",
      "Epoch 20/100\n",
      "3/3 [==============================] - 0s 39ms/step - loss: 0.0145 - mse: 6.1196e-04 - val_loss: 0.0123 - val_mse: 2.7886e-04\n",
      "Epoch 21/100\n",
      "3/3 [==============================] - 0s 39ms/step - loss: 0.0143 - mse: 5.9945e-04 - val_loss: 0.0120 - val_mse: 2.6579e-04\n",
      "Epoch 22/100\n",
      "3/3 [==============================] - 0s 53ms/step - loss: 0.0142 - mse: 5.9899e-04 - val_loss: 0.0118 - val_mse: 2.6192e-04\n",
      "Epoch 23/100\n",
      "3/3 [==============================] - 0s 39ms/step - loss: 0.0139 - mse: 5.7132e-04 - val_loss: 0.0115 - val_mse: 2.6386e-04\n",
      "Epoch 24/100\n",
      "3/3 [==============================] - 0s 40ms/step - loss: 0.0138 - mse: 5.7827e-04 - val_loss: 0.0113 - val_mse: 2.5575e-04\n",
      "Epoch 25/100\n",
      "3/3 [==============================] - 0s 40ms/step - loss: 0.0135 - mse: 5.7573e-04 - val_loss: 0.0110 - val_mse: 2.3808e-04\n",
      "Epoch 26/100\n",
      "3/3 [==============================] - 0s 44ms/step - loss: 0.0135 - mse: 5.6780e-04 - val_loss: 0.0107 - val_mse: 2.2690e-04\n",
      "Epoch 27/100\n",
      "3/3 [==============================] - 0s 41ms/step - loss: 0.0133 - mse: 5.4331e-04 - val_loss: 0.0104 - val_mse: 2.1791e-04\n",
      "Epoch 28/100\n",
      "3/3 [==============================] - 0s 48ms/step - loss: 0.0133 - mse: 5.6233e-04 - val_loss: 0.0102 - val_mse: 2.1292e-04\n",
      "Epoch 29/100\n",
      "3/3 [==============================] - 0s 45ms/step - loss: 0.0134 - mse: 5.9014e-04 - val_loss: 0.0102 - val_mse: 2.2232e-04\n",
      "Epoch 30/100\n",
      "3/3 [==============================] - 0s 47ms/step - loss: 0.0131 - mse: 5.4477e-04 - val_loss: 0.0102 - val_mse: 2.3011e-04\n",
      "Epoch 31/100\n",
      "3/3 [==============================] - 0s 41ms/step - loss: 0.0131 - mse: 5.5653e-04 - val_loss: 0.0100 - val_mse: 2.1688e-04\n",
      "Epoch 32/100\n",
      "3/3 [==============================] - 0s 42ms/step - loss: 0.0130 - mse: 5.3127e-04 - val_loss: 0.0097 - val_mse: 1.9877e-04\n",
      "Epoch 33/100\n",
      "3/3 [==============================] - 0s 42ms/step - loss: 0.0131 - mse: 5.4072e-04 - val_loss: 0.0095 - val_mse: 1.8207e-04\n",
      "Epoch 34/100\n",
      "3/3 [==============================] - 0s 42ms/step - loss: 0.0130 - mse: 5.3432e-04 - val_loss: 0.0094 - val_mse: 1.8064e-04\n",
      "Epoch 35/100\n",
      "3/3 [==============================] - 0s 57ms/step - loss: 0.0129 - mse: 5.2342e-04 - val_loss: 0.0094 - val_mse: 1.8926e-04\n",
      "Epoch 36/100\n",
      "3/3 [==============================] - 0s 42ms/step - loss: 0.0128 - mse: 5.2756e-04 - val_loss: 0.0095 - val_mse: 2.0020e-04\n",
      "Epoch 37/100\n",
      "3/3 [==============================] - 0s 47ms/step - loss: 0.0127 - mse: 5.1982e-04 - val_loss: 0.0095 - val_mse: 2.0653e-04\n",
      "Epoch 38/100\n",
      "3/3 [==============================] - 0s 43ms/step - loss: 0.0129 - mse: 5.2339e-04 - val_loss: 0.0095 - val_mse: 2.0345e-04\n",
      "Epoch 39/100\n",
      "3/3 [==============================] - 0s 42ms/step - loss: 0.0127 - mse: 4.9775e-04 - val_loss: 0.0093 - val_mse: 1.9336e-04\n",
      "Epoch 40/100\n",
      "3/3 [==============================] - 0s 43ms/step - loss: 0.0127 - mse: 5.0080e-04 - val_loss: 0.0091 - val_mse: 1.8138e-04\n",
      "Epoch 41/100\n",
      "3/3 [==============================] - 0s 42ms/step - loss: 0.0127 - mse: 5.0154e-04 - val_loss: 0.0089 - val_mse: 1.7083e-04\n",
      "Epoch 42/100\n",
      "3/3 [==============================] - 0s 43ms/step - loss: 0.0125 - mse: 4.8107e-04 - val_loss: 0.0089 - val_mse: 1.6847e-04\n",
      "Epoch 43/100\n",
      "3/3 [==============================] - 0s 45ms/step - loss: 0.0126 - mse: 4.9151e-04 - val_loss: 0.0089 - val_mse: 1.7540e-04\n",
      "Epoch 44/100\n",
      "3/3 [==============================] - 0s 44ms/step - loss: 0.0125 - mse: 4.7585e-04 - val_loss: 0.0090 - val_mse: 1.8199e-04\n",
      "Epoch 45/100\n",
      "3/3 [==============================] - 0s 47ms/step - loss: 0.0124 - mse: 4.6749e-04 - val_loss: 0.0088 - val_mse: 1.6902e-04\n",
      "Epoch 46/100\n",
      "3/3 [==============================] - 0s 46ms/step - loss: 0.0125 - mse: 4.8170e-04 - val_loss: 0.0086 - val_mse: 1.5620e-04\n",
      "Epoch 47/100\n",
      "3/3 [==============================] - 0s 44ms/step - loss: 0.0124 - mse: 4.7874e-04 - val_loss: 0.0086 - val_mse: 1.5864e-04\n",
      "Epoch 48/100\n",
      "3/3 [==============================] - 0s 43ms/step - loss: 0.0123 - mse: 4.5617e-04 - val_loss: 0.0085 - val_mse: 1.6059e-04\n",
      "Epoch 49/100\n",
      "3/3 [==============================] - 0s 45ms/step - loss: 0.0123 - mse: 4.6007e-04 - val_loss: 0.0085 - val_mse: 1.6562e-04\n",
      "Epoch 50/100\n",
      "3/3 [==============================] - 0s 44ms/step - loss: 0.0122 - mse: 4.4050e-04 - val_loss: 0.0084 - val_mse: 1.5810e-04\n",
      "Epoch 51/100\n",
      "3/3 [==============================] - 0s 48ms/step - loss: 0.0123 - mse: 4.4473e-04 - val_loss: 0.0083 - val_mse: 1.5347e-04\n",
      "Epoch 52/100\n",
      "3/3 [==============================] - 0s 45ms/step - loss: 0.0122 - mse: 4.4464e-04 - val_loss: 0.0082 - val_mse: 1.5004e-04\n",
      "Epoch 53/100\n",
      "3/3 [==============================] - 0s 45ms/step - loss: 0.0122 - mse: 4.4607e-04 - val_loss: 0.0083 - val_mse: 1.5181e-04\n",
      "Epoch 54/100\n",
      "3/3 [==============================] - 0s 49ms/step - loss: 0.0120 - mse: 4.1952e-04 - val_loss: 0.0083 - val_mse: 1.5842e-04\n",
      "Epoch 55/100\n",
      "3/3 [==============================] - 0s 44ms/step - loss: 0.0120 - mse: 4.3304e-04 - val_loss: 0.0083 - val_mse: 1.5624e-04\n",
      "Epoch 56/100\n",
      "3/3 [==============================] - 0s 44ms/step - loss: 0.0120 - mse: 4.2537e-04 - val_loss: 0.0083 - val_mse: 1.4939e-04\n",
      "Epoch 57/100\n",
      "3/3 [==============================] - 0s 43ms/step - loss: 0.0120 - mse: 4.1147e-04 - val_loss: 0.0083 - val_mse: 1.5057e-04\n",
      "Epoch 58/100\n",
      "3/3 [==============================] - 0s 46ms/step - loss: 0.0119 - mse: 4.0299e-04 - val_loss: 0.0083 - val_mse: 1.5206e-04\n",
      "Epoch 59/100\n",
      "3/3 [==============================] - 0s 45ms/step - loss: 0.0117 - mse: 3.9524e-04 - val_loss: 0.0083 - val_mse: 1.5851e-04\n",
      "Epoch 60/100\n",
      "3/3 [==============================] - 0s 48ms/step - loss: 0.0117 - mse: 3.8594e-04 - val_loss: 0.0083 - val_mse: 1.5223e-04\n",
      "Epoch 61/100\n",
      "3/3 [==============================] - 0s 44ms/step - loss: 0.0115 - mse: 3.7208e-04 - val_loss: 0.0081 - val_mse: 1.4208e-04\n",
      "Epoch 62/100\n",
      "3/3 [==============================] - 0s 50ms/step - loss: 0.0117 - mse: 3.7579e-04 - val_loss: 0.0080 - val_mse: 1.3614e-04\n",
      "Epoch 63/100\n",
      "3/3 [==============================] - 0s 44ms/step - loss: 0.0116 - mse: 3.7677e-04 - val_loss: 0.0080 - val_mse: 1.4113e-04\n",
      "Epoch 64/100\n",
      "3/3 [==============================] - 0s 45ms/step - loss: 0.0116 - mse: 3.6565e-04 - val_loss: 0.0079 - val_mse: 1.4263e-04\n",
      "Epoch 65/100\n",
      "3/3 [==============================] - 0s 45ms/step - loss: 0.0114 - mse: 3.6215e-04 - val_loss: 0.0078 - val_mse: 1.3101e-04\n",
      "Epoch 66/100\n",
      "3/3 [==============================] - 0s 58ms/step - loss: 0.0117 - mse: 3.8884e-04 - val_loss: 0.0077 - val_mse: 1.2729e-04\n",
      "Epoch 67/100\n",
      "3/3 [==============================] - 0s 47ms/step - loss: 0.0114 - mse: 3.5943e-04 - val_loss: 0.0078 - val_mse: 1.3163e-04\n",
      "Epoch 68/100\n",
      "3/3 [==============================] - 0s 48ms/step - loss: 0.0112 - mse: 3.4772e-04 - val_loss: 0.0078 - val_mse: 1.3963e-04\n",
      "Epoch 69/100\n",
      "3/3 [==============================] - 0s 46ms/step - loss: 0.0115 - mse: 3.5960e-04 - val_loss: 0.0077 - val_mse: 1.3704e-04\n",
      "Epoch 70/100\n",
      "3/3 [==============================] - 0s 53ms/step - loss: 0.0114 - mse: 3.6024e-04 - val_loss: 0.0077 - val_mse: 1.3347e-04\n",
      "Epoch 71/100\n",
      "3/3 [==============================] - 0s 45ms/step - loss: 0.0113 - mse: 3.4148e-04 - val_loss: 0.0077 - val_mse: 1.3040e-04\n",
      "Epoch 72/100\n",
      "3/3 [==============================] - 0s 45ms/step - loss: 0.0111 - mse: 3.3683e-04 - val_loss: 0.0077 - val_mse: 1.2604e-04\n",
      "Epoch 73/100\n",
      "3/3 [==============================] - 0s 47ms/step - loss: 0.0112 - mse: 3.3032e-04 - val_loss: 0.0077 - val_mse: 1.2929e-04\n",
      "Epoch 74/100\n",
      "3/3 [==============================] - 0s 47ms/step - loss: 0.0111 - mse: 3.3822e-04 - val_loss: 0.0077 - val_mse: 1.3123e-04\n",
      "Epoch 75/100\n",
      "3/3 [==============================] - 0s 48ms/step - loss: 0.0111 - mse: 3.2947e-04 - val_loss: 0.0077 - val_mse: 1.3049e-04\n",
      "Epoch 76/100\n",
      "3/3 [==============================] - 0s 55ms/step - loss: 0.0108 - mse: 3.0520e-04 - val_loss: 0.0076 - val_mse: 1.2365e-04\n",
      "Epoch 77/100\n",
      "3/3 [==============================] - 0s 48ms/step - loss: 0.0109 - mse: 3.0586e-04 - val_loss: 0.0074 - val_mse: 1.2103e-04\n",
      "Epoch 78/100\n",
      "3/3 [==============================] - 0s 54ms/step - loss: 0.0108 - mse: 3.0959e-04 - val_loss: 0.0073 - val_mse: 1.1553e-04\n",
      "Epoch 79/100\n",
      "3/3 [==============================] - 0s 48ms/step - loss: 0.0109 - mse: 3.1296e-04 - val_loss: 0.0074 - val_mse: 1.2190e-04\n",
      "Epoch 80/100\n",
      "3/3 [==============================] - 0s 47ms/step - loss: 0.0108 - mse: 3.0394e-04 - val_loss: 0.0074 - val_mse: 1.1929e-04\n",
      "Epoch 81/100\n",
      "3/3 [==============================] - 0s 46ms/step - loss: 0.0108 - mse: 2.9773e-04 - val_loss: 0.0074 - val_mse: 1.2061e-04\n",
      "Epoch 82/100\n",
      "3/3 [==============================] - 0s 46ms/step - loss: 0.0106 - mse: 2.8377e-04 - val_loss: 0.0071 - val_mse: 1.0932e-04\n",
      "Epoch 83/100\n",
      "3/3 [==============================] - 0s 47ms/step - loss: 0.0108 - mse: 3.0108e-04 - val_loss: 0.0071 - val_mse: 1.0733e-04\n",
      "Epoch 84/100\n",
      "3/3 [==============================] - 0s 49ms/step - loss: 0.0106 - mse: 2.8673e-04 - val_loss: 0.0072 - val_mse: 1.1318e-04\n",
      "Epoch 85/100\n",
      "3/3 [==============================] - 0s 50ms/step - loss: 0.0106 - mse: 2.8647e-04 - val_loss: 0.0072 - val_mse: 1.1333e-04\n",
      "Epoch 86/100\n",
      "3/3 [==============================] - 0s 51ms/step - loss: 0.0105 - mse: 2.7112e-04 - val_loss: 0.0071 - val_mse: 1.0887e-04\n",
      "Epoch 87/100\n",
      "3/3 [==============================] - 0s 49ms/step - loss: 0.0106 - mse: 2.8536e-04 - val_loss: 0.0070 - val_mse: 1.0761e-04\n",
      "Epoch 88/100\n",
      "3/3 [==============================] - 0s 49ms/step - loss: 0.0104 - mse: 2.8064e-04 - val_loss: 0.0068 - val_mse: 1.0041e-04\n",
      "Epoch 89/100\n",
      "3/3 [==============================] - 0s 51ms/step - loss: 0.0104 - mse: 2.7495e-04 - val_loss: 0.0069 - val_mse: 1.0133e-04\n",
      "Epoch 90/100\n",
      "3/3 [==============================] - 0s 45ms/step - loss: 0.0102 - mse: 2.5420e-04 - val_loss: 0.0069 - val_mse: 1.0382e-04\n",
      "Epoch 91/100\n",
      "3/3 [==============================] - 0s 53ms/step - loss: 0.0102 - mse: 2.6120e-04 - val_loss: 0.0068 - val_mse: 1.0325e-04\n",
      "Epoch 92/100\n",
      "3/3 [==============================] - 0s 49ms/step - loss: 0.0103 - mse: 2.6527e-04 - val_loss: 0.0068 - val_mse: 1.0313e-04\n",
      "Epoch 93/100\n",
      "3/3 [==============================] - 0s 52ms/step - loss: 0.0102 - mse: 2.5585e-04 - val_loss: 0.0070 - val_mse: 1.0710e-04\n",
      "Epoch 94/100\n",
      "3/3 [==============================] - 0s 53ms/step - loss: 0.0102 - mse: 2.6138e-04 - val_loss: 0.0070 - val_mse: 1.0607e-04\n",
      "Epoch 95/100\n",
      "3/3 [==============================] - 0s 64ms/step - loss: 0.0102 - mse: 2.5294e-04 - val_loss: 0.0070 - val_mse: 1.0739e-04\n",
      "Epoch 96/100\n",
      "3/3 [==============================] - 0s 47ms/step - loss: 0.0100 - mse: 2.5122e-04 - val_loss: 0.0070 - val_mse: 1.0631e-04\n",
      "Epoch 97/100\n",
      "3/3 [==============================] - 0s 47ms/step - loss: 0.0100 - mse: 2.3676e-04 - val_loss: 0.0070 - val_mse: 1.0476e-04\n",
      "Epoch 98/100\n",
      "3/3 [==============================] - 0s 51ms/step - loss: 0.0099 - mse: 2.3602e-04 - val_loss: 0.0068 - val_mse: 1.0162e-04\n",
      "Epoch 99/100\n",
      "3/3 [==============================] - 0s 50ms/step - loss: 0.0098 - mse: 2.3213e-04 - val_loss: 0.0067 - val_mse: 9.9631e-05\n",
      "Epoch 100/100\n",
      "3/3 [==============================] - 0s 55ms/step - loss: 0.0098 - mse: 2.3336e-04 - val_loss: 0.0068 - val_mse: 1.0118e-04\n"
     ]
    }
   ],
   "source": [
    "history = model.fit(\n",
    "    trainX,\n",
    "    trainY,\n",
    "    epochs=100,\n",
    "    batch_size=60,\n",
    "    shuffle=True,\n",
    "    verbose=1,\n",
    "    validation_data=[testX, testY],\n",
    ")"
   ]
  },
  {
   "cell_type": "code",
   "execution_count": 28,
   "metadata": {},
   "outputs": [
    {
     "name": "stdout",
     "output_type": "stream",
     "text": [
      "Train loss:  0.009788979776203632 \n",
      "Test loss: 0.006784064695239067\n"
     ]
    }
   ],
   "source": [
    "print(\n",
    "    \"Train loss: \",\n",
    "    history.history[\"loss\"][-1],\n",
    "    \"\\nTest loss:\",\n",
    "    history.history[\"val_loss\"][-1],\n",
    ")"
   ]
  },
  {
   "cell_type": "code",
   "execution_count": 29,
   "metadata": {},
   "outputs": [
    {
     "data": {
      "image/png": "[encoded data removed]",
      "text/plain": [
       "<Figure size 700x800 with 2 Axes>"
      ]
     },
     "metadata": {},
     "output_type": "display_data"
    }
   ],
   "source": [
    "sg.utils.plot_history(history)"
   ]
  },
  {
   "cell_type": "code",
   "execution_count": 30,
   "metadata": {},
   "outputs": [
    {
     "name": "stdout",
     "output_type": "stream",
     "text": [
      "6/6 [==============================] - 0s 16ms/step\n",
      "1/1 [==============================] - 0s 21ms/step\n"
     ]
    }
   ],
   "source": [
    "ythat = model.predict(trainX)\n",
    "yhat = model.predict(testX)"
   ]
  },
  {
   "cell_type": "code",
   "execution_count": 54,
   "metadata": {},
   "outputs": [
    {
     "data": {
      "text/plain": [
       "array([[0.01078194, 0.00058016, 0.01601796, ..., 0.03492127, 0.00204551,\n",
       "        0.01429566],\n",
       "       [0.01078194, 0.00058016, 0.01601796, ..., 0.03492127, 0.00204551,\n",
       "        0.01429566],\n",
       "       [0.01078193, 0.00058016, 0.01601796, ..., 0.03492125, 0.00204551,\n",
       "        0.01429565],\n",
       "       ...,\n",
       "       [0.01078193, 0.00058016, 0.01601796, ..., 0.03492124, 0.0020455 ,\n",
       "        0.01429566],\n",
       "       [0.01078193, 0.00058016, 0.01601796, ..., 0.03492123, 0.0020455 ,\n",
       "        0.01429566],\n",
       "       [0.01078193, 0.00058016, 0.01601795, ..., 0.03492125, 0.0020455 ,\n",
       "        0.01429565]], dtype=float32)"
      ]
     },
     "execution_count": 54,
     "metadata": {},
     "output_type": "execute_result"
    }
   ],
   "source": [
    "yhat"
   ]
  },
  {
   "cell_type": "markdown",
   "metadata": {},
   "source": [
    "## Rescale values\n",
    "\n",
    "Rescale the predicted values to the original value range of the timeseries."
   ]
  },
  {
   "cell_type": "code",
   "execution_count": 31,
   "metadata": {},
   "outputs": [],
   "source": [
    "## Rescale values\n",
    "max_speed = train_data.max()\n",
    "min_speed = train_data.min()\n",
    "\n",
    "## actual train and test values\n",
    "train_rescref = np.array(trainY * max_speed)\n",
    "test_rescref = np.array(testY * max_speed)"
   ]
  },
  {
   "cell_type": "code",
   "execution_count": 39,
   "metadata": {},
   "outputs": [
    {
     "name": "stdout",
     "output_type": "stream",
     "text": [
      "(29, 498)\n"
     ]
    },
    {
     "data": {
      "text/plain": [
       "(29, 498)"
      ]
     },
     "execution_count": 39,
     "metadata": {},
     "output_type": "execute_result"
    }
   ],
   "source": [
    "print(testY.shape)\n",
    "test_rescref.shape"
   ]
  },
  {
   "cell_type": "code",
   "execution_count": 32,
   "metadata": {},
   "outputs": [],
   "source": [
    "## Rescale model predicted values\n",
    "train_rescpred = np.array((ythat) * max_speed)\n",
    "test_rescpred = np.array((yhat) * max_speed)"
   ]
  },
  {
   "cell_type": "code",
   "execution_count": 44,
   "metadata": {},
   "outputs": [
    {
     "data": {
      "text/plain": [
       "(29, 498)"
      ]
     },
     "execution_count": 44,
     "metadata": {},
     "output_type": "execute_result"
    }
   ],
   "source": [
    "testY.shape"
   ]
  },
  {
   "cell_type": "code",
   "execution_count": 43,
   "metadata": {},
   "outputs": [
    {
     "data": {
      "text/plain": [
       "array([[0.01078194, 0.00058016, 0.01601796, ..., 0.03492127, 0.00204551,\n",
       "        0.01429566],\n",
       "       [0.01078194, 0.00058016, 0.01601796, ..., 0.03492127, 0.00204551,\n",
       "        0.01429566],\n",
       "       [0.01078193, 0.00058016, 0.01601796, ..., 0.03492125, 0.00204551,\n",
       "        0.01429565],\n",
       "       ...,\n",
       "       [0.01078193, 0.00058016, 0.01601796, ..., 0.03492124, 0.0020455 ,\n",
       "        0.01429566],\n",
       "       [0.01078193, 0.00058016, 0.01601796, ..., 0.03492123, 0.0020455 ,\n",
       "        0.01429566],\n",
       "       [0.01078193, 0.00058016, 0.01601795, ..., 0.03492125, 0.0020455 ,\n",
       "        0.01429565]], dtype=float32)"
      ]
     },
     "execution_count": 43,
     "metadata": {},
     "output_type": "execute_result"
    }
   ],
   "source": [
    "yhat"
   ]
  },
  {
   "cell_type": "markdown",
   "metadata": {},
   "source": [
    "## Measuring the performance of the model\n",
    "\n",
    "To understand how well the model is performing, we compare it against a naive benchmark.\n",
    "\n",
    "1. Naive prediction: using the most recently **observed** value as the predicted value. Note, that albeit being **naive** this is a very strong baseline to beat. Especially, when speeds are recorded at a 5 minutes granularity,  one does not expect many drastic changes within such a short period of time. Hence, for short-term predictions naive is a reasonable good guess."
   ]
  },
  {
   "cell_type": "markdown",
   "metadata": {},
   "source": [
    "### Naive prediction benchmark (using latest observed value)"
   ]
  },
  {
   "cell_type": "code",
   "execution_count": 46,
   "metadata": {},
   "outputs": [],
   "source": [
    "## Naive prediction benchmark (using previous observed value)\n",
    "\n",
    "testnpred = np.array(testX)[\n",
    "    :, :, -1\n",
    "]  # picking the last speed of the 10 sequence for each segment in each sample\n",
    "#testnpredc = (testnpred) * max_speed"
   ]
  },
  {
   "cell_type": "code",
   "execution_count": 48,
   "metadata": {},
   "outputs": [
    {
     "name": "stdout",
     "output_type": "stream",
     "text": [
      "Total (ave) MAE for NN: 0.00946872559708289\n",
      "Total (ave) MAE for naive prediction: 0.0015514556877935977\n",
      "Total (ave) MASE for per-segment NN/naive MAE: 7.019919032829415\n",
      "...note that MASE<1 (for a given segment) means that the NN prediction is better than the naive prediction.\n"
     ]
    }
   ],
   "source": [
    "## Performance measures\n",
    "\n",
    "seg_mael = []\n",
    "seg_masel = []\n",
    "seg_nmael = []\n",
    "\n",
    "for j in range(testX.shape[-1]):\n",
    "\n",
    "    seg_mael.append(\n",
    "        np.mean(np.abs(testY.T[j] - yhat.T[j]))\n",
    "    )  # Mean Absolute Error for NN\n",
    "    seg_nmael.append(\n",
    "        np.mean(np.abs(testY.T[j] - testnpred.T[j]))\n",
    "    )  # Mean Absolute Error for naive prediction\n",
    "    if seg_nmael[-1] != 0:\n",
    "        seg_masel.append(\n",
    "            seg_mael[-1] / seg_nmael[-1]\n",
    "        )  # Ratio of the two: Mean Absolute Scaled Error\n",
    "    else:\n",
    "        seg_masel.append(np.NaN)\n",
    "\n",
    "print(\"Total (ave) MAE for NN: \" + str(np.mean(np.array(seg_mael))))\n",
    "print(\"Total (ave) MAE for naive prediction: \" + str(np.mean(np.array(seg_nmael))))\n",
    "print(\n",
    "    \"Total (ave) MASE for per-segment NN/naive MAE: \"\n",
    "    + str(np.nanmean(np.array(seg_masel)))\n",
    ")\n",
    "print(\n",
    "    \"...note that MASE<1 (for a given segment) means that the NN prediction is better than the naive prediction.\"\n",
    ")"
   ]
  },
  {
   "cell_type": "code",
   "execution_count": 49,
   "metadata": {},
   "outputs": [
    {
     "data": {
      "image/png": "[encoded data removed]",
      "text/plain": [
       "<Figure size 640x480 with 1 Axes>"
      ]
     },
     "metadata": {},
     "output_type": "display_data"
    }
   ],
   "source": [
    "# plot violin plot of MAE for naive and NN predictions\n",
    "fig, ax = plt.subplots()\n",
    "# xl = minsl\n",
    "\n",
    "ax.violinplot(\n",
    "    list(seg_mael), showmeans=True, showmedians=False, showextrema=False, widths=1.0\n",
    ")\n",
    "\n",
    "ax.violinplot(\n",
    "    list(seg_nmael), showmeans=True, showmedians=False, showextrema=False, widths=1.0\n",
    ")\n",
    "\n",
    "line1 = mlines.Line2D([], [], label=\"NN\")\n",
    "line2 = mlines.Line2D([], [], color=\"C1\", label=\"Instantaneous\")\n",
    "\n",
    "ax.set_xlabel(\"Scaled distribution amplitude (after Gaussian convolution)\")\n",
    "ax.set_ylabel(\"Mean Absolute Error\")\n",
    "ax.set_title(\"Distribution over segments: NN pred (blue) and naive pred (orange)\")\n",
    "plt.legend(handles=(line1, line2), title=\"Prediction Model\", loc=2)\n",
    "plt.show()"
   ]
  },
  {
   "cell_type": "markdown",
   "metadata": {},
   "source": [
    "#### Plot of actual and predicted speeds on a sample sensor"
   ]
  },
  {
   "cell_type": "code",
   "execution_count": 52,
   "metadata": {},
   "outputs": [
    {
     "data": {
      "text/plain": [
       "array([[0.01078194, 0.00058016, 0.01601796, ..., 0.03492127, 0.00204551,\n",
       "        0.01429566],\n",
       "       [0.01078194, 0.00058016, 0.01601796, ..., 0.03492127, 0.00204551,\n",
       "        0.01429566],\n",
       "       [0.01078193, 0.00058016, 0.01601796, ..., 0.03492125, 0.00204551,\n",
       "        0.01429565],\n",
       "       ...,\n",
       "       [0.01078193, 0.00058016, 0.01601796, ..., 0.03492124, 0.0020455 ,\n",
       "        0.01429566],\n",
       "       [0.01078193, 0.00058016, 0.01601796, ..., 0.03492123, 0.0020455 ,\n",
       "        0.01429566],\n",
       "       [0.01078193, 0.00058016, 0.01601795, ..., 0.03492125, 0.0020455 ,\n",
       "        0.01429565]], dtype=float32)"
      ]
     },
     "execution_count": 52,
     "metadata": {},
     "output_type": "execute_result"
    }
   ],
   "source": [
    "yhat"
   ]
  },
  {
   "cell_type": "code",
   "execution_count": 51,
   "metadata": {},
   "outputs": [
    {
     "data": {
      "image/png": "[encoded data removed]",
      "text/plain": [
       "<Figure size 1500x800 with 1 Axes>"
      ]
     },
     "metadata": {},
     "output_type": "display_data"
    }
   ],
   "source": [
    "##all test result visualization\n",
    "fig1 = plt.figure(figsize=(15, 8))\n",
    "#    ax1 = fig1.add_subplot(1,1,1)\n",
    "a_pred = yhat[:, 100]\n",
    "a_true = testY[:, 100]\n",
    "plt.plot(a_pred, \"r-\", label=\"prediction\")\n",
    "plt.plot(a_true, \"b-\", label=\"true\")\n",
    "plt.xlabel(\"time\")\n",
    "plt.ylabel(\"speed\")\n",
    "plt.legend(loc=\"best\", fontsize=10)\n",
    "plt.show()"
   ]
  },
  {
   "cell_type": "markdown",
   "metadata": {
    "nbsphinx": "hidden",
    "tags": [
     "CloudRunner"
    ]
   },
   "source": [
    "<table><tr><td>Run the latest release of this notebook:</td><td><a href=\"https://mybinder.org/v2/gh/stellargraph/stellargraph/master?urlpath=lab/tree/demos/time-series/gcn-lstm-time-series.ipynb\" alt=\"Open In Binder\" target=\"_parent\"><img src=\"https://mybinder.org/badge_logo.svg\"/></a></td><td><a href=\"https://colab.research.google.com/github/stellargraph/stellargraph/blob/master/demos/time-series/gcn-lstm-time-series.ipynb\" alt=\"Open In Colab\" target=\"_parent\"><img src=\"https://colab.research.google.com/assets/colab-badge.svg\"/></a></td></tr></table>"
   ]
  }
 ],
 "metadata": {
  "kernelspec": {
   "display_name": "Python 3",
   "language": "python",
   "name": "python3"
  },
  "language_info": {
   "codemirror_mode": {
    "name": "ipython",
    "version": 3
   },
   "file_extension": ".py",
   "mimetype": "text/x-python",
   "name": "python",
   "nbconvert_exporter": "python",
   "pygments_lexer": "ipython3",
   "version": "3.8.18"
  }
 },
 "nbformat": 4,
 "nbformat_minor": 4
}
